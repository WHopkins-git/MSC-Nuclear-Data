{
 "cells": [
  {
   "cell_type": "raw",
   "id": "dd8454b7-b60c-421f-9528-012eb67c948f",
   "metadata": {},
   "source": [
    "Github commit test"
   ]
  },
  {
   "cell_type": "code",
   "execution_count": 2,
   "id": "24d130b1-8870-4efd-8aed-20cf796db4cc",
   "metadata": {},
   "outputs": [
    {
     "name": "stdout",
     "output_type": "stream",
     "text": [
      "Hello, World!\n"
     ]
    }
   ],
   "source": [
    "print(\"Hello, World!\")"
   ]
  }
 ],
 "metadata": {
  "kernelspec": {
   "display_name": "Python 3 (ipykernel)",
   "language": "python",
   "name": "python3"
  },
  "language_info": {
   "codemirror_mode": {
    "name": "ipython",
    "version": 3
   },
   "file_extension": ".py",
   "mimetype": "text/x-python",
   "name": "python",
   "nbconvert_exporter": "python",
   "pygments_lexer": "ipython3",
   "version": "3.12.1"
  }
 },
 "nbformat": 4,
 "nbformat_minor": 5
}
