{
 "cells": [
  {
   "cell_type": "code",
   "execution_count": 1,
   "id": "bd56c058-b474-42a4-92af-7cbd99bc7148",
   "metadata": {
    "executionInfo": {
     "elapsed": 2646,
     "status": "ok",
     "timestamp": 1719491909270,
     "user": {
      "displayName": "Will Hopkins",
      "userId": "08337845963715151846"
     },
     "user_tz": -60
    },
    "id": "bd56c058-b474-42a4-92af-7cbd99bc7148"
   },
   "outputs": [],
   "source": [
    "import os\n",
    "import nucml.datasets as nuc_data\n",
    "import logging\n",
    "import pandas as pd\n",
    "import numpy as np\n",
    "from sklearn.experimental import enable_halving_search_cv"
   ]
  },
  {
   "cell_type": "markdown",
   "id": "170a00a2-3e63-483d-a39b-8846dc96a970",
   "metadata": {},
   "source": [
    "Monkey patch load_exfor method for most recent pandas (I am running a downgraded pandas [1.3.5]for compatability, <font color='red'>we currently don't need this</font>)"
   ]
  },
  {
   "cell_type": "code",
   "execution_count": 4,
   "id": "be74b38e-54af-4961-8da1-54c60b56bfa8",
   "metadata": {
    "id": "be74b38e-54af-4961-8da1-54c60b56bfa8",
    "jupyter": {
     "source_hidden": true
    }
   },
   "outputs": [],
   "source": [
    "from sklearn.model_selection import train_test_split\n",
    "import nucml.processing as nuc_proc\n",
    "\n",
    "def custom_load_exfor(log=False, low_en=False, basic=-1, num=False, frac=0.1, mode=\"neutrons\", scaling_type=\"standard\",\n",
    "    scaler_dir=None, filters=False, max_en=2.0E7, mt_coding=\"one_hot\", scale_energy=False, projectile_coding=\"one_hot\",\n",
    "    normalize=True, pedro=False, pedro_v2=False):\n",
    "    \"\"\"Loads the EXFOR dataset in its varius forms. This function helps load ML-ready EXFOR datasets\n",
    "    for different particle induce reactions or all of them.\n",
    "\n",
    "    Args:\n",
    "        log (bool, optional): If True, the log of the Energy and Cross Section is taken. Defaults to False.\n",
    "        low_en (bool, optional): If True, an upper limit in energy is applied given by the max_en argument. Defaults to False.\n",
    "        basic (int, optional): Indicates how many features to load. -1 means all avaliable features. Defaults to -1.\n",
    "        num (bool, optional): If True, only numerical and relevant categorical features are loaded. Defaults to False.\n",
    "        frac (float, optional): Fraction of the dataset for test set. Defaults to 0.1.\n",
    "        mode (str, optional): Dataset to load. Options include neutrons, gammas, and protons. Defaults to \"neutrons\".\n",
    "        scaling_type (str, optional): Type of scaler to use for normalizing the dataset. Defaults to \"standard\".\n",
    "        scaler_dir (str, optional): Directory in which to store the trained scaler. Defaults to None.\n",
    "        filters (bool, optional): If True, a variety of filters are applied that help discard irregular data. Defaults to False.\n",
    "        max_en (float, optional): Maximum energy threshold by which the dataset is filtered. Defaults to 2.0E7.\n",
    "        mt_coding (str, optional): Method used to process the MT reaction channel codes. Defaults to \"one_hot\".\n",
    "        scale_energy (bool, optional): If True, the energy will be normalized along with all other features. Defaults to False.\n",
    "        projectile_coding (str, optional): Method used to process the type of projectile. Defaults to \"one_hot\".\n",
    "        pedro (bool, optional): Personal settings. Defaults to False.\n",
    "\n",
    "    Raises:\n",
    "        FileNotFoundError: If mode is all and one of the files is missing.\n",
    "        FileNotFoundError: If the selected mode file does not exist.\n",
    "\n",
    "    Returns:\n",
    "        DataFrame: Only returns one dataset if num=False.\n",
    "        DataFrames: Multiple dataframes and objects if num=True.\n",
    "    \"\"\"\n",
    "    if pedro:\n",
    "        log = low_en = num = filters = normalize = True\n",
    "    if pedro_v2:\n",
    "        log = low_en = num = filters = True\n",
    "    if mode not in nuc_data.supported_modes:\n",
    "        return logging.error(\"Specified MODE not supported. Supported modes include: {}\".format(' '.join([str(v) for v in nuc_data.supported_modes])))\n",
    "    if mt_coding not in nuc_data.supported_mt_coding:\n",
    "        return logging.error(\"Specified mt_coding not supported. Supported codings include: {}\".format(' '.join([str(v) for v in nuc_data.supported_mt_coding])))\n",
    "\n",
    "    logging.info(\" MODE: {}\".format(mode))\n",
    "    logging.info(\" LOW ENERGY: {}\".format(low_en))\n",
    "    logging.info(\" LOG: {}\".format(log))\n",
    "    logging.info(\" BASIC: {}\".format(basic))\n",
    "    # logging.info(\" SCALER: {}\".format(scaling_type.upper()))\n",
    "\n",
    "    if mode == \"all\":\n",
    "        neutrons_datapath = os.path.join(nuc_data.exfor_path, 'EXFOR_' + \"neutrons\" + '\\\\EXFOR_' + \"neutrons\" + '_MF3_AME_no_RawNaN.csv')\n",
    "        # neutrons_datapath = 'C:\\\\Users\\\\Pedro\\\\Desktop\\\\ML_Nuclear_Data\\\\EXFOR\\\\CSV_Files\\\\EXFOR_' + \"neutrons\" + '\\\\EXFOR_' + \"neutrons\" + '_MF3_AME_no_RawNaN.csv'\n",
    "        protons_datapath = os.path.join(nuc_data.exfor_path, 'EXFOR_' + \"protons\" + '\\\\EXFOR_' + \"protons\" + '_MF3_AME_no_RawNaN.csv')\n",
    "        alphas_datapath = os.path.join(nuc_data.exfor_path, 'EXFOR_' + \"alphas\" + '\\\\EXFOR_' + \"alphas\" + '_MF3_AME_no_RawNaN.csv')\n",
    "        deuterons_datapath = os.path.join(nuc_data.exfor_path, 'EXFOR_' + \"deuterons\" + '\\\\EXFOR_' + \"deuterons\" + '_MF3_AME_no_RawNaN.csv')\n",
    "        gammas_datapath = os.path.join(nuc_data.exfor_path, 'EXFOR_' + \"gammas\" + '\\\\EXFOR_' + \"gammas\" + '_MF3_AME_no_RawNaN.csv')\n",
    "        helions_datapath = os.path.join(nuc_data.exfor_path, 'EXFOR_' + \"helions\" + '\\\\EXFOR_' + \"helions\" + '_MF3_AME_no_RawNaN.csv')\n",
    "        all_datapaths = [neutrons_datapath, protons_datapath, alphas_datapath, deuterons_datapath, gammas_datapath, helions_datapath]\n",
    "        if gen_utils.check_if_files_exist(all_datapaths):\n",
    "            df = pd.read_csv(neutrons_datapath, dtype=nuc_data.dtype_exfor).dropna()\n",
    "            protons = pd.read_csv(protons_datapath, dtype=nuc_data.dtype_exfor).dropna()\n",
    "            alphas = pd.read_csv(alphas_datapath, dtype=nuc_data.dtype_exfor).dropna()\n",
    "            deuterons = pd.read_csv(deuterons_datapath, dtype=nuc_data.dtype_exfor).dropna()\n",
    "            gammas = pd.read_csv(gammas_datapath, dtype=nuc_data.dtype_exfor).dropna()\n",
    "            helions = pd.read_csv(helions_datapath, dtype=nuc_data.dtype_exfor).dropna()\n",
    "            df = df.append([protons, alphas, deuterons, gammas, helions])\n",
    "        else:\n",
    "            raise FileNotFoundError(\"One ore more files are missing. Check directories.\")\n",
    "    else:\n",
    "        # datapath = os.path.join(nuc_data.exfor_path, 'EXFOR_' + mode + '\\\\EXFOR_' + mode + '_MF3_AME_no_RawNaN.csv')\n",
    "        datapath = os.path.join(nuc_data.exfor_path, 'EXFOR_' + mode + '/EXFOR_' + mode + '_MF3_AME_no_RawNaN.csv')\n",
    "        if os.path.exists(datapath):\n",
    "            logging.info(\"Reading data from {}\".format(datapath))\n",
    "            df = pd.read_csv(datapath, dtype=nuc_data.dtype_exfor).dropna()\n",
    "        else:\n",
    "            raise FileNotFoundError(\"CSV file does not exists. Check given path: {}\".format(datapath))\n",
    "\n",
    "    if filters:\n",
    "        df = df[~((df.Reaction_Notation.str.contains(\"WTR\")) | (df.Title.str.contains(\"DERIV\")) | (df.Energy == 0) | (df.Data == 0))]\n",
    "        df = df[(df.MT != \"203\") & (df.MT != \"1003\") & (df.MT != \"1108\") & (df.MT != \"2103\")]\n",
    "    if low_en:\n",
    "        df = df[df.Energy < max_en]\n",
    "    if log:\n",
    "        print(f\"Total number of rows before Log transformation: {df.shape[0]}\")\n",
    "\n",
    "        # Handle zeros before applying log transformation with subnormal numbers\n",
    "        smallest_subnormal = np.nextafter(0, 1)  # Smallest positive subnormal number greater than zero\n",
    "        df[\"Energy\"] = df[\"Energy\"].replace(0, smallest_subnormal)\n",
    "        df[\"Data\"] = df[\"Data\"].replace(0, smallest_subnormal)\n",
    "\n",
    "        # Apply the log transformation\n",
    "        df[\"Energy\"] = np.log10(df[\"Energy\"])\n",
    "        df[\"Data\"] = np.log10(df[\"Data\"])\n",
    "\n",
    "        # Count the number of rows with log transformation applied\n",
    "        # This should be the same as total rows since we are applying the log to all rows\n",
    "        print(f\"Total number of rows after log transformation: {df.shape[0]}\")\n",
    "\n",
    "\n",
    "    magic_numbers = [2, 8, 20, 28, 40, 50, 82, 126, 184]\n",
    "    df[\"N_valence\"] = df.N.apply(lambda neutrons: abs(neutrons - min(magic_numbers, key=lambda x:abs(x-neutrons))))\n",
    "    df[\"Z_valence\"] = df.Z.apply(lambda protons: abs(protons - min(magic_numbers, key=lambda x:abs(x-protons))))\n",
    "    df[\"P_factor\"] = (df[\"N_valence\"] * df[\"Z_valence\"]) / (df[\"N_valence\"] + df[\"Z_valence\"])\n",
    "    df.P_factor = df.P_factor.fillna(0)\n",
    "    df[\"N_tag\"] = df.N_valence.apply(lambda neutrons: \"even\" if neutrons % 2 == 0 else \"odd\")\n",
    "    df[\"Z_tag\"] = df.Z_valence.apply(lambda protons: \"even\" if protons % 2 == 0 else \"odd\")\n",
    "    df[\"NZ_tag\"] = df[\"N_tag\"] + \"_\" + df[\"Z_tag\"]\n",
    "    \n",
    "    if basic != -1:\n",
    "        if basic == 0:\n",
    "            basic_cols = [\"Energy\", \"Data\", \"Z\", \"N\", \"A\", \"MT\", \"Center_of_Mass_Flag\", \"Element_Flag\"]\n",
    "            cat_cols = [\"MT\", \"Center_of_Mass_Flag\", \"Element_Flag\"]\n",
    "        elif basic == 1:\n",
    "            basic_cols = [\"Energy\", \"Data\", \"Z\", \"N\", \"A\", \"MT\", \"Center_of_Mass_Flag\", \"Element_Flag\",\n",
    "                \"Atomic_Mass_Micro\", \"Nucleus_Radius\", \"Neutron_Nucleus_Radius_Ratio\"]\n",
    "            cat_cols = [\"MT\", \"Center_of_Mass_Flag\", \"Element_Flag\"]\n",
    "        elif basic == 2:\n",
    "            basic_cols = [\"Energy\", \"Data\", \"Z\", \"N\", \"A\", \"MT\", \"Center_of_Mass_Flag\", \"Element_Flag\",\n",
    "                \"Atomic_Mass_Micro\", \"Nucleus_Radius\", \"Neutron_Nucleus_Radius_Ratio\", \"Mass_Excess\",\n",
    "                \"Binding_Energy\", \"B_Decay_Energy\", \"S(n)\", \"S(p)\", \"S(2n)\", \"S(2p)\"]\n",
    "            cat_cols = [\"MT\", \"Center_of_Mass_Flag\", \"Element_Flag\"]\n",
    "        elif basic == 3:\n",
    "            basic_cols = [\"Energy\", \"Data\", \"Z\", \"N\", \"A\", \"MT\", \"Center_of_Mass_Flag\", \"Element_Flag\",\n",
    "                \"Atomic_Mass_Micro\", \"Nucleus_Radius\", \"Neutron_Nucleus_Radius_Ratio\", \"Mass_Excess\",\n",
    "                \"Binding_Energy\", \"B_Decay_Energy\", \"S(n)\", \"S(p)\", \"S(2n)\", \"S(2p)\", \"N_valence\", \"Z_valence\", \"P_factor\",\n",
    "                \"N_tag\", \"Z_tag\", \"NZ_tag\"]\n",
    "            cat_cols = [\"MT\", \"Center_of_Mass_Flag\", \"Element_Flag\", \"N_tag\", \"Z_tag\", \"NZ_tag\"]\n",
    "        elif basic == 4:\n",
    "            basic_cols = [\"Energy\", \"Data\", \"Z\", \"N\", \"A\", \"MT\", \"Center_of_Mass_Flag\", \"Element_Flag\",\n",
    "                \"Atomic_Mass_Micro\", \"Nucleus_Radius\", \"Neutron_Nucleus_Radius_Ratio\", \"Mass_Excess\",\n",
    "                \"Binding_Energy\", \"B_Decay_Energy\", \"S(n)\", \"S(p)\", \"S(2n)\", \"S(2p)\", \"N_valence\", \"Z_valence\", \"P_factor\",\n",
    "                \"N_tag\", \"Z_tag\", \"NZ_tag\"]\n",
    "            to_append = [x for x in df.columns if x.startswith(\"Q\") or x.startswith(\"dQ\") or x.startswith(\"dS\")]\n",
    "            basic_cols.extend(to_append)\n",
    "            cat_cols = [\"MT\", \"Center_of_Mass_Flag\", \"Element_Flag\", \"N_tag\", \"Z_tag\", \"NZ_tag\"]\n",
    "        if mode == \"all\":\n",
    "            if projectile_coding == \"particle_coded\":\n",
    "                basic_cols.extend([\"Projectile_Z\", \"Projectile_A\", \"Projectile_N\", \"Target_Metastable_State\", \"Product_Metastable_State\"])\n",
    "            elif projectile_coding == \"one_hot\":\n",
    "                basic_cols.extend([\"Projectile\", \"Target_Metastable_State\", \"Product_Metastable_State\"])\n",
    "                cat_cols.extend([\"Projectile\"])\n",
    "        df = df[basic_cols]\n",
    "\n",
    "    logging.info(\"Data read into dataframe with shape: {}\".format(df.shape))\n",
    "    if num:\n",
    "        if mt_coding == \"particle_coded\":\n",
    "            cat_cols.remove(\"MT\")\n",
    "            mt_codes_df = pd.read_csv(os.path.join(nuc_data.exfor_path, 'CSV_Files/mt_codes.csv')).drop(columns=[\"MT_Tag\", \"MT_Reaction_Notation\"])\n",
    "            mt_codes_df[\"MT\"] = mt_codes_df[\"MT\"].astype(str)\n",
    "            # We need to keep track of columns to normalize excluding categorical data.\n",
    "            norm_columns = len(df.columns) - len(cat_cols) - 2\n",
    "            df = pd.concat([df, pd.get_dummies(df[cat_cols])], axis=1).drop(columns=cat_cols)\n",
    "            df = pd.merge(df, mt_codes_df, on='MT').drop(columns=[\"MT\"])\n",
    "        elif mt_coding == \"one_hot\":\n",
    "            # We need to keep track of columns to normalize excluding categorical data.\n",
    "            norm_columns = len(df.columns) - len(cat_cols) - 1\n",
    "            df = pd.concat([df, pd.get_dummies(df[cat_cols])], axis=1).drop(columns=cat_cols)\n",
    "\n",
    "        logging.info(\"Splitting dataset into training and testing...\")\n",
    "        x_train, x_test, y_train, y_test = train_test_split(df.drop([\"Data\"], axis=1), df[\"Data\"], test_size=frac)\n",
    "\n",
    "        if normalize:\n",
    "            logging.info(\"Normalizing dataset...\")\n",
    "            to_scale = list(x_train.columns)[:norm_columns]\n",
    "            if not scale_energy:\n",
    "                to_scale.remove(\"Energy\")\n",
    "            scaler = nuc_proc.normalize_features(x_train, to_scale, scaling_type=scaling_type, scaler_dir=scaler_dir)\n",
    "            x_train[to_scale] = scaler.transform(x_train[to_scale])\n",
    "            x_test[to_scale] = scaler.transform(x_test[to_scale])\n",
    "            return df, x_train, x_test, y_train, y_test, to_scale, scaler\n",
    "        else:\n",
    "            return df, x_train, x_test, y_train, y_test\n",
    "    else:\n",
    "        logging.info(\"Finished. Resulting dataset has shape {}\".format(df.shape))\n",
    "        return df\n",
    "\n",
    "# Replace the original method with the custom one\n",
    "nuc_data.load_exfor = custom_load_exfor\n"
   ]
  },
  {
   "cell_type": "markdown",
   "id": "af21b2ec-e15d-4a16-bfcd-e3bd321a2dfa",
   "metadata": {},
   "source": [
    "#### Custom method to call load_exfor from NucML"
   ]
  },
  {
   "cell_type": "code",
   "execution_count": 2,
   "id": "81cb7a7f-cfa9-4639-a6bf-9369eaae38e7",
   "metadata": {},
   "outputs": [],
   "source": [
    "import os\n",
    "import nucml.datasets as nuc_data\n",
    "\n",
    "def load_exfor_data(mode, log, low_en, max_en, num, basic, filters, normalize):\n",
    "    \"\"\"\n",
    "    Load EXFOR data with the specified parameters.\n",
    "\n",
    "    Parameters:\n",
    "    mode (str): Mode for loading data.\n",
    "    log (bool): Whether to use logarithmic scale.\n",
    "    low_en (bool): Whether to use low energy data.\n",
    "    max_en (float): Maximum energy value.\n",
    "    num (bool): Whether to use numerical data.\n",
    "    basic (int): Basic parameter for loading data.\n",
    "    filters (bool): Whether to apply filters.\n",
    "    normalize (bool): Whether to normalize the data.\n",
    "\n",
    "    Returns:\n",
    "    tuple: Loaded data (data, x_train, x_test, y_train, y_test, to_scale, scaler) if normalize is True,\n",
    "           otherwise (data, x_train, x_test, y_train, y_test)\n",
    "    \"\"\"\n",
    "    # Save the current working directory\n",
    "    working_directory = os.getcwd()\n",
    "\n",
    "    # Define the exfor_path to point to the directory containing the EXFOR data files\n",
    "    exfor_path = os.path.join(working_directory, 'ML_Nuclear_Data', 'EXFOR', 'CSV_Files')\n",
    "\n",
    "    # Modify the nucml.datasets module to use the defined exfor_path\n",
    "    nuc_data.exfor_path = exfor_path\n",
    "\n",
    "    # Load the EXFOR data\n",
    "    if normalize:\n",
    "        data, x_train, x_test, y_train, y_test, to_scale, scaler = nuc_data.load_exfor(\n",
    "            mode=mode,\n",
    "            log=log,\n",
    "            low_en=low_en,\n",
    "            max_en=max_en,\n",
    "            num=num,\n",
    "            basic=basic,\n",
    "            filters=filters,\n",
    "            normalize=normalize)\n",
    "        # Print a summary of the data to ensure it's loaded correctly\n",
    "        print(\"Data loaded successfully with normalization!\")\n",
    "        print(f\"Training data shape: {x_train.shape}\")\n",
    "        print(f\"Test data shape: {x_test.shape}\")\n",
    "\n",
    "        # Return the loaded data\n",
    "        return data, x_train, x_test, y_train, y_test, to_scale, scaler\n",
    "    else:\n",
    "        data, x_train, x_test, y_train, y_test = nuc_data.load_exfor(\n",
    "            mode=mode,\n",
    "            log=log,\n",
    "            low_en=low_en,\n",
    "            max_en=max_en,\n",
    "            num=num,\n",
    "            basic=basic,\n",
    "            filters=filters,\n",
    "            normalize=normalize)\n",
    "        # Print a summary of the data to ensure it's loaded correctly\n",
    "        print(\"Data loaded successfully without normalization!\")\n",
    "        print(f\"Training data shape: {x_train.shape}\")\n",
    "        print(f\"Test data shape: {x_test.shape}\")\n",
    "\n",
    "        # Return the loaded data\n",
    "        return data, x_train, x_test, y_train, y_test\n"
   ]
  },
  {
   "cell_type": "markdown",
   "id": "e87ef4c0-648c-41ef-970f-9904aeeab92f",
   "metadata": {},
   "source": [
    "#### Load the EXFOR data"
   ]
  },
  {
   "cell_type": "code",
   "execution_count": 3,
   "id": "eb88ccb3-7e94-4c9e-9601-e23a39a63e67",
   "metadata": {},
   "outputs": [
    {
     "name": "stderr",
     "output_type": "stream",
     "text": [
      "INFO:root: MODE: neutrons\n",
      "INFO:root: LOW ENERGY: False\n",
      "INFO:root: LOG: True\n",
      "INFO:root: BASIC: 0\n",
      "INFO:root:Reading data from G:\\My Drive\\Uni\\MSc Project\\MSC-Nuclear-Data\\ML_Nuclear_Data\\EXFOR\\CSV_Files\\EXFOR_neutrons/EXFOR_neutrons_MF3_AME_no_RawNaN.csv\n",
      "INFO:root:Data read into dataframe with shape: (4380357, 8)\n",
      "INFO:root:Splitting dataset into training and testing...\n",
      "INFO:root:Normalizing dataset...\n",
      "INFO:root:Fitting new scaler.\n"
     ]
    },
    {
     "name": "stdout",
     "output_type": "stream",
     "text": [
      "Data loaded successfully with normalization!\n",
      "Training data shape: (3942321, 44)\n",
      "Test data shape: (438036, 44)\n"
     ]
    }
   ],
   "source": [
    "# Define parameters\n",
    "mode = \"neutrons\"\n",
    "log = True\n",
    "low_en = False\n",
    "max_en = 2.0E1\n",
    "num = True\n",
    "basic = 0\n",
    "filters = True\n",
    "normalize = True\n",
    "\n",
    "result = load_exfor_data(mode, log, low_en, max_en, num, basic, filters, normalize=True)\n",
    "\n",
    "if len(result) == 7:\n",
    "    data, x_train, x_test, y_train, y_test, to_scale, scaler = result\n",
    "elif len(result) == 5:\n",
    "    data, x_train, x_test, y_train, y_test = result"
   ]
  },
  {
   "cell_type": "code",
   "execution_count": 11,
   "id": "9a279f0c-2318-4dcc-8d61-bb74f7d8c2ff",
   "metadata": {},
   "outputs": [
    {
     "data": {
      "text/html": [
       "<div>\n",
       "<style scoped>\n",
       "    .dataframe tbody tr th:only-of-type {\n",
       "        vertical-align: middle;\n",
       "    }\n",
       "\n",
       "    .dataframe tbody tr th {\n",
       "        vertical-align: top;\n",
       "    }\n",
       "\n",
       "    .dataframe thead th {\n",
       "        text-align: right;\n",
       "    }\n",
       "</style>\n",
       "<table border=\"1\" class=\"dataframe\">\n",
       "  <thead>\n",
       "    <tr style=\"text-align: right;\">\n",
       "      <th></th>\n",
       "      <th>Energy</th>\n",
       "      <th>Data</th>\n",
       "      <th>Z</th>\n",
       "      <th>N</th>\n",
       "      <th>A</th>\n",
       "      <th>MT_1</th>\n",
       "      <th>MT_101</th>\n",
       "      <th>MT_102</th>\n",
       "      <th>MT_103</th>\n",
       "      <th>MT_104</th>\n",
       "      <th>...</th>\n",
       "      <th>MT_37</th>\n",
       "      <th>MT_4</th>\n",
       "      <th>MT_41</th>\n",
       "      <th>MT_51</th>\n",
       "      <th>MT_9000</th>\n",
       "      <th>MT_9001</th>\n",
       "      <th>Center_of_Mass_Flag_Center_of_Mass</th>\n",
       "      <th>Center_of_Mass_Flag_Lab</th>\n",
       "      <th>Element_Flag_I</th>\n",
       "      <th>Element_Flag_N</th>\n",
       "    </tr>\n",
       "  </thead>\n",
       "  <tbody>\n",
       "    <tr>\n",
       "      <th>0</th>\n",
       "      <td>7.945469</td>\n",
       "      <td>-1.522879</td>\n",
       "      <td>0</td>\n",
       "      <td>1</td>\n",
       "      <td>1</td>\n",
       "      <td>1</td>\n",
       "      <td>0</td>\n",
       "      <td>0</td>\n",
       "      <td>0</td>\n",
       "      <td>0</td>\n",
       "      <td>...</td>\n",
       "      <td>0</td>\n",
       "      <td>0</td>\n",
       "      <td>0</td>\n",
       "      <td>0</td>\n",
       "      <td>0</td>\n",
       "      <td>0</td>\n",
       "      <td>0</td>\n",
       "      <td>1</td>\n",
       "      <td>1</td>\n",
       "      <td>0</td>\n",
       "    </tr>\n",
       "    <tr>\n",
       "      <th>1</th>\n",
       "      <td>7.991669</td>\n",
       "      <td>-1.536107</td>\n",
       "      <td>0</td>\n",
       "      <td>1</td>\n",
       "      <td>1</td>\n",
       "      <td>1</td>\n",
       "      <td>0</td>\n",
       "      <td>0</td>\n",
       "      <td>0</td>\n",
       "      <td>0</td>\n",
       "      <td>...</td>\n",
       "      <td>0</td>\n",
       "      <td>0</td>\n",
       "      <td>0</td>\n",
       "      <td>0</td>\n",
       "      <td>0</td>\n",
       "      <td>0</td>\n",
       "      <td>0</td>\n",
       "      <td>1</td>\n",
       "      <td>1</td>\n",
       "      <td>0</td>\n",
       "    </tr>\n",
       "    <tr>\n",
       "      <th>2</th>\n",
       "      <td>8.041393</td>\n",
       "      <td>-1.554396</td>\n",
       "      <td>0</td>\n",
       "      <td>1</td>\n",
       "      <td>1</td>\n",
       "      <td>1</td>\n",
       "      <td>0</td>\n",
       "      <td>0</td>\n",
       "      <td>0</td>\n",
       "      <td>0</td>\n",
       "      <td>...</td>\n",
       "      <td>0</td>\n",
       "      <td>0</td>\n",
       "      <td>0</td>\n",
       "      <td>0</td>\n",
       "      <td>0</td>\n",
       "      <td>0</td>\n",
       "      <td>0</td>\n",
       "      <td>1</td>\n",
       "      <td>1</td>\n",
       "      <td>0</td>\n",
       "    </tr>\n",
       "    <tr>\n",
       "      <th>3</th>\n",
       "      <td>8.077731</td>\n",
       "      <td>-1.578396</td>\n",
       "      <td>0</td>\n",
       "      <td>1</td>\n",
       "      <td>1</td>\n",
       "      <td>1</td>\n",
       "      <td>0</td>\n",
       "      <td>0</td>\n",
       "      <td>0</td>\n",
       "      <td>0</td>\n",
       "      <td>...</td>\n",
       "      <td>0</td>\n",
       "      <td>0</td>\n",
       "      <td>0</td>\n",
       "      <td>0</td>\n",
       "      <td>0</td>\n",
       "      <td>0</td>\n",
       "      <td>0</td>\n",
       "      <td>1</td>\n",
       "      <td>1</td>\n",
       "      <td>0</td>\n",
       "    </tr>\n",
       "    <tr>\n",
       "      <th>4</th>\n",
       "      <td>8.111934</td>\n",
       "      <td>-1.591760</td>\n",
       "      <td>0</td>\n",
       "      <td>1</td>\n",
       "      <td>1</td>\n",
       "      <td>1</td>\n",
       "      <td>0</td>\n",
       "      <td>0</td>\n",
       "      <td>0</td>\n",
       "      <td>0</td>\n",
       "      <td>...</td>\n",
       "      <td>0</td>\n",
       "      <td>0</td>\n",
       "      <td>0</td>\n",
       "      <td>0</td>\n",
       "      <td>0</td>\n",
       "      <td>0</td>\n",
       "      <td>0</td>\n",
       "      <td>1</td>\n",
       "      <td>1</td>\n",
       "      <td>0</td>\n",
       "    </tr>\n",
       "  </tbody>\n",
       "</table>\n",
       "<p>5 rows × 45 columns</p>\n",
       "</div>"
      ],
      "text/plain": [
       "     Energy      Data  Z  N  A  MT_1  MT_101  MT_102  MT_103  MT_104  ...  \\\n",
       "0  7.945469 -1.522879  0  1  1     1       0       0       0       0  ...   \n",
       "1  7.991669 -1.536107  0  1  1     1       0       0       0       0  ...   \n",
       "2  8.041393 -1.554396  0  1  1     1       0       0       0       0  ...   \n",
       "3  8.077731 -1.578396  0  1  1     1       0       0       0       0  ...   \n",
       "4  8.111934 -1.591760  0  1  1     1       0       0       0       0  ...   \n",
       "\n",
       "   MT_37  MT_4  MT_41  MT_51  MT_9000  MT_9001  \\\n",
       "0      0     0      0      0        0        0   \n",
       "1      0     0      0      0        0        0   \n",
       "2      0     0      0      0        0        0   \n",
       "3      0     0      0      0        0        0   \n",
       "4      0     0      0      0        0        0   \n",
       "\n",
       "   Center_of_Mass_Flag_Center_of_Mass  Center_of_Mass_Flag_Lab  \\\n",
       "0                                   0                        1   \n",
       "1                                   0                        1   \n",
       "2                                   0                        1   \n",
       "3                                   0                        1   \n",
       "4                                   0                        1   \n",
       "\n",
       "   Element_Flag_I  Element_Flag_N  \n",
       "0               1               0  \n",
       "1               1               0  \n",
       "2               1               0  \n",
       "3               1               0  \n",
       "4               1               0  \n",
       "\n",
       "[5 rows x 45 columns]"
      ]
     },
     "execution_count": 11,
     "metadata": {},
     "output_type": "execute_result"
    }
   ],
   "source": [
    "data.head()"
   ]
  },
  {
   "cell_type": "markdown",
   "id": "7a1d06ab-5a0c-4280-9988-f782b5e8336f",
   "metadata": {},
   "source": [
    "## Our decision tree trainer class (<font color='brown'>minimised for readability</font>)"
   ]
  },
  {
   "cell_type": "code",
   "execution_count": 4,
   "id": "e353dd8b-6b98-4a5d-9f49-6ce16d0de7ef",
   "metadata": {
    "jupyter": {
     "source_hidden": true
    }
   },
   "outputs": [],
   "source": [
    "import time\n",
    "import matplotlib.pyplot as plt\n",
    "from sklearn import tree\n",
    "from sklearn.model_selection import GridSearchCV, HalvingGridSearchCV\n",
    "from sklearn.experimental import enable_halving_search_cv\n",
    "from sklearn.metrics import mean_absolute_error\n",
    "from joblib import dump\n",
    "from mpl_toolkits.mplot3d import Axes3D\n",
    "from matplotlib import cm\n",
    "\n",
    "class DecisionTreeTrainer:\n",
    "    def __init__(self, x_train, y_train, x_test, y_test, scaler=None):\n",
    "        self.x_train = x_train\n",
    "        self.y_train = y_train\n",
    "        self.x_test = x_test\n",
    "        self.y_test = y_test\n",
    "        self.scaler = scaler\n",
    "        self.best_model = None\n",
    "\n",
    "    def create_param_grid(self, min_depth, max_depth, depth_step, min_mss, max_mss, mss_step, min_msl, max_msl, msl_step):\n",
    "        param_grid = {\n",
    "            'max_depth': range(min_depth, max_depth + 1, depth_step),\n",
    "            'min_samples_split': range(min_mss, max_mss + 1, mss_step),\n",
    "            'min_samples_leaf': range(min_msl, max_msl + 1, msl_step)\n",
    "        }\n",
    "        return param_grid\n",
    "\n",
    "    def train_decision_tree(self, min_depth, max_depth, depth_step, min_mss, max_mss, mss_step, min_msl, max_msl, msl_step, cv, n_jobs, verbose, scoring):\n",
    "        param_grid = self.create_param_grid(min_depth, max_depth, depth_step, min_mss, max_mss, mss_step, min_msl, max_msl, msl_step)\n",
    "        \n",
    "        grid_search = HalvingGridSearchCV(\n",
    "            estimator=tree.DecisionTreeRegressor(),\n",
    "            param_grid=param_grid,\n",
    "            cv=cv,\n",
    "            n_jobs=n_jobs,\n",
    "            verbose=verbose,\n",
    "            scoring=scoring,\n",
    "            return_train_score=True\n",
    "        )\n",
    "\n",
    "        start_time = time.time()\n",
    "        grid_search.fit(self.x_train, self.y_train)\n",
    "        end_time = time.time()\n",
    "        training_time = end_time - start_time\n",
    "\n",
    "        self.best_model = grid_search.best_estimator_\n",
    "        cv_results = pd.DataFrame(grid_search.cv_results_)\n",
    "\n",
    "        all_model_results = []\n",
    "        for i, params in enumerate(cv_results['params']):\n",
    "            row = {\n",
    "                'max_depth': params['max_depth'],\n",
    "                'min_samples_leaf': params['min_samples_leaf'],\n",
    "                'min_samples_split': params['min_samples_split'],\n",
    "                'Training Time (s)': training_time,\n",
    "                'mean_fit_time': cv_results['mean_fit_time'][i],\n",
    "                'std_fit_time': cv_results['std_fit_time'][i],\n",
    "                'mean_score_time': cv_results['mean_score_time'][i],\n",
    "                'std_score_time': cv_results['std_score_time'][i],\n",
    "                'mean_verification_score': -cv_results['mean_test_score'][i],\n",
    "                'std_verification_score': cv_results['std_test_score'][i],\n",
    "                'rank_verification_score': cv_results['rank_test_score'][i],\n",
    "                'mean_train_score': -cv_results['mean_train_score'][i],\n",
    "                'std_train_score': cv_results['std_train_score'][i],\n",
    "            }\n",
    "            # Add conditional entries for each CV split if they exist in cv_results\n",
    "            for j in range(cv):\n",
    "                if f'split{j}_test_score' in cv_results:\n",
    "                    row[f'split{j}_cv_score'] = -cv_results[f'split{j}_test_score'][i]\n",
    "                if f'split{j}_train_score' in cv_results:\n",
    "                    row[f'split{j}_train_score'] = -cv_results[f'split{j}_train_score'][i]\n",
    "            all_model_results.append(row)\n",
    "\n",
    "        all_model_results_df = pd.DataFrame(all_model_results)\n",
    "        \n",
    "\n",
    "        # Evaluate the best model on the separate test set using MAE\n",
    "        test_predictions = self.best_model.predict(self.x_test)\n",
    "        test_score = mean_absolute_error(self.y_test, test_predictions)\n",
    "        \n",
    "        print(\"-------------\")\n",
    "        print(f\"Train MAE: {abs(cv_results['mean_train_score'][0])}\")\n",
    "        print(f\"Verification MAE: {abs(cv_results['mean_test_score'][0])}\")\n",
    "        print(f\"Test MAE: {mean_absolute_error(self.y_test, self.best_model.predict(self.x_test))}\")\n",
    "        print(\"\\n\")\n",
    "\n",
    "\n",
    "        return grid_search.best_params_, cv_results, all_model_results_df, test_score\n",
    "\n",
    "    def save_model_and_results(self, save_dir, model_string=\"best_dt_model.joblib\"):\n",
    "        if not os.path.exists(save_dir):\n",
    "            os.makedirs(save_dir)\n",
    "        \n",
    "        model_name = f\"{model_string}.joblib\" ###\n",
    "        scaler_name = f\"{model_string}.pkl\" ###\n",
    "        \n",
    "        model_saving_path = os.path.join(save_dir, model_name)\n",
    "        scaler_saving_path = os.path.join(save_dir, scaler_name) if self.scaler else None\n",
    "\n",
    "        dump(self.best_model, model_saving_path)\n",
    "        if self.scaler:\n",
    "            dump(self.scaler, open(scaler_saving_path, 'wb'))\n",
    "\n",
    "        return model_saving_path, scaler_saving_path\n",
    "\n",
    "    def save_results(self, results_dir, model_saving_path, scaler_saving_path, all_model_results_df, test_score):\n",
    "        if not os.path.exists(results_dir):\n",
    "            os.makedirs(results_dir)\n",
    "    \n",
    "        params = self.best_model.get_params() \n",
    "        best_dt_results = {\n",
    "            \"model_path\": model_saving_path,\n",
    "            \"scaler_path\": scaler_saving_path if scaler_saving_path else \"None\",\n",
    "            \"max_depth\": params['max_depth'],\n",
    "            \"min_samples_leaf\": params['min_samples_leaf'],\n",
    "            \"min_samples_split\": params['min_samples_split'],\n",
    "            \"mean_train_score\": all_model_results_df[\"mean_train_score\"].min(),\n",
    "            \"mean_verification_score\": all_model_results_df[\"mean_train_score\"].min(),  \n",
    "            \"Test set score\": test_score,\n",
    "            \"Training Time (s)\": all_model_results_df[\"Training Time (s)\"].iloc[0]\n",
    "        }\n",
    "\n",
    "        best_dt_results_df = pd.DataFrame([best_dt_results])\n",
    "        best_dt_results_filepath = os.path.join(results_dir, 'best_dt_results.csv')\n",
    "        best_dt_results_df.to_csv(best_dt_results_filepath, index=False)\n",
    "    \n",
    "        all_dt_results_filepath = os.path.join(results_dir, 'all_dt_results.csv')\n",
    "        all_model_results_df.to_csv(all_dt_results_filepath, index=False)\n",
    "    \n",
    "        return best_dt_results_filepath, all_dt_results_filepath\n",
    "\n",
    "\n",
    "# Visualization methods\n",
    "    def max_depth_plot(self, df, save=False, name=\"max_depth_plot\", close=False):\n",
    "        fig, (ax1, ax2) = plt.subplots(2, figsize=(18,8))\n",
    "        ax1.scatter(df['max_depth'], df['Train MAE'])\n",
    "        ax2.scatter(df['max_depth'], df['Test MAE'], c=\"orange\")\n",
    "        ax2.set_xlabel(\"Max Depth\")\n",
    "        ax1.set_ylabel(\"Train MAE\")\n",
    "        ax2.set_ylabel(\"Test MAE\")\n",
    "        if save:\n",
    "            plt.savefig(os.path.join(\"figures/\", name + \".png\"), bbox_inches='tight', dpi=300)\n",
    "        if close:\n",
    "            plt.close()\n",
    "\n",
    "    def mss_msl_plot(self, df, save=False, name=\"mss_msl_plot\", close=False):\n",
    "        fig, (ax1, ax2) = plt.subplots(2, figsize=(18,8))\n",
    "        ax1.scatter(df['min_samples_leaf'], df['Train MAE'], label=\"MSL\")\n",
    "        ax1.scatter(df['min_samples_split'], df['Train MAE'], label=\"MSS\")\n",
    "        ax2.scatter(df['min_samples_leaf'], df['Test MAE'], label=\"MSL\")\n",
    "        ax2.scatter(df['min_samples_split'], df['Test MAE'], label=\"MSS\")\n",
    "        ax1.legend()\n",
    "        ax2.legend()\n",
    "        ax2.set_xlabel(\"Parameter Value\")\n",
    "        ax1.set_ylabel(\"Train MAE\")\n",
    "        ax2.set_ylabel(\"Test MAE\")\n",
    "        if save:\n",
    "            plt.savefig(os.path.join(\"figures/\", name + \".png\"), bbox_inches='tight', dpi=300)\n",
    "        if close:\n",
    "            plt.close()\n",
    "\n",
    "    def max_depth_vs_mss_plot(self, df, save=False, name=\"max_depth_vs_mss_plot\", close=False):\n",
    "        fig = plt.figure()\n",
    "        ax = fig.add_subplot(111, projection='3d')\n",
    "        fig.set_size_inches(20, 10.5, forward=True)\n",
    "        surf = ax.plot_trisurf(df['max_depth'], df['min_samples_split'], df['Train MAE'], linewidth=0.2, antialiased=True, cmap=cm.viridis)\n",
    "        ax.view_init(20, -30)\n",
    "        ax.set_ylabel(\"MSS\", labelpad=15)\n",
    "        ax.set_xlabel(\"Max Depth\", labelpad=10)\n",
    "        ax.set_zlabel(\"Train MAE\", labelpad=15)\n",
    "        fig.colorbar(surf, shrink=0.5, aspect=5)\n",
    "        if save:\n",
    "            plt.savefig(os.path.join(\"figures/\", name + \".png\"), bbox_inches='tight', dpi=300)\n",
    "        if close:\n",
    "            plt.close()\n",
    "\n",
    "    def max_depth_vs_msl_plot(self, df, save=False, name=\"max_depth_vs_msl_plot\", close=False):\n",
    "        fig = plt.figure()\n",
    "        ax = fig.add_subplot(111, projection='3d')\n",
    "        fig.set_size_inches(20, 10.5, forward=True)\n",
    "        surf = ax.plot_trisurf(df['max_depth'], df['min_samples_leaf'], df['Train MAE'], linewidth=0.2, antialiased=True, cmap=cm.viridis)\n",
    "        ax.view_init(20, -40)\n",
    "        ax.set_ylabel(\"MSL\", labelpad=15)\n",
    "        ax.set_xlabel(\"Max Depth\", labelpad=10)\n",
    "        ax.set_zlabel(\"Train MAE\", labelpad=15)\n",
    "        fig.colorbar(surf, shrink=0.5, aspect=5)\n",
    "        if save:\n",
    "            plt.savefig(os.path.join(\"figures/\", name + \".png\"), bbox_inches='tight', dpi=300)\n",
    "        if close:\n",
    "            plt.close()\n",
    "\n",
    "    def mss_vs_msl_plot(self, df, save=False, name=\"mss_vs_msl_plot\", close=False):\n",
    "        fig = plt.figure()\n",
    "        ax = fig.add_subplot(111, projection='3d')\n",
    "        fig.set_size_inches(20, 10.5, forward=True)\n",
    "        surf = ax.plot_trisurf(df['min_samples_split'], df['min_samples_leaf'], df['Train MAE'], linewidth=0.2, antialiased=True, cmap=cm.viridis)\n",
    "        ax.view_init(10, -30)\n",
    "        ax.set_ylabel(\"MSL\", labelpad=15)\n",
    "        ax.set_xlabel(\"MSS\", labelpad=10)\n",
    "        ax.set_zlabel(\"Train MAE\", labelpad=15)\n",
    "        fig.colorbar(surf, shrink=0.5, aspect=5)\n",
    "        if save:\n",
    "            plt.savefig(os.path.join(\"figures/\", name + \".png\"), bbox_inches='tight', dpi=300)\n",
    "        if close:\n",
    "            plt.close()"
   ]
  },
  {
   "cell_type": "markdown",
   "id": "4a6b6f47-a87f-4a45-a646-10b989f576a4",
   "metadata": {},
   "source": [
    "## Train a decision tree with the specified grid search parameters"
   ]
  },
  {
   "cell_type": "code",
   "execution_count": null,
   "id": "71cd8c20-c998-4bcc-890a-fafde1d56e68",
   "metadata": {},
   "outputs": [],
   "source": [
    "dt_scaler = scaler if normalize else None\n",
    "\n",
    "# Change 'scaler=None' to 'scaler' for normalization\n",
    "dt_trainer = DecisionTreeTrainer(x_train.values, y_train.values, x_test.values, y_test.values, dt_scaler)\n",
    "best_params, cv_results, all_model_results_df, test_score = dt_trainer.train_decision_tree(\n",
    "    min_depth=80, max_depth=80, depth_step=1,\n",
    "    min_mss=5, max_mss=5, mss_step=2,\n",
    "    min_msl=4, max_msl=4, msl_step=1,\n",
    "    cv=2, n_jobs=-1, verbose=2, scoring='neg_mean_absolute_error'\n",
    ")\n",
    "\n",
    "# Create a string for model name based on data parameters\n",
    "model_name_suffix = f\"mode={mode}_log={log}_lowen={low_en}_maxen={max_en}_num={num}_basic={basic}_filters={filters}_normalize={normalize}\"\n",
    "model_name_suffix = model_name_suffix.replace(\"=\", \"-\").replace(\".\", \"p\")\n",
    "model_name = f\"best_dt_model_{model_name_suffix}\" \n",
    "\n",
    "# save the model\n",
    "model_saving_path, scaler_saving_path = dt_trainer.save_model_and_results('models/save', model_string=model_name)\n",
    "results_filepath, all_model_results_filepath = dt_trainer.save_results('models/results', model_saving_path, scaler_saving_path, all_model_results_df, test_score)\n",
    "\n",
    "print(f\"Model saved to: {model_saving_path}\")\n",
    "print(\"Best Parameters:\", best_params)\n",
    "print(\"Test MAE:\", test_score)"
   ]
  },
  {
   "cell_type": "markdown",
   "id": "8fb53ced-521e-4780-8071-680422d690fd",
   "metadata": {},
   "source": [
    "# multimodal 1"
   ]
  },
  {
   "cell_type": "code",
   "execution_count": 38,
   "id": "744fcd03-4057-4f63-91fd-586941d2024f",
   "metadata": {
    "jupyter": {
     "source_hidden": true
    }
   },
   "outputs": [],
   "source": [
    "import os\n",
    "import time\n",
    "import pandas as pd\n",
    "from sklearn import tree\n",
    "from sklearn.model_selection import GridSearchCV, RandomizedSearchCV, HalvingGridSearchCV, HalvingRandomSearchCV\n",
    "from sklearn.metrics import mean_absolute_error\n",
    "from joblib import dump\n",
    "from skopt import BayesSearchCV\n",
    "from skopt.space import Integer\n",
    "from hyperopt import hp, fmin, tpe, Trials, STATUS_OK\n",
    "from hyperopt.pyll.base import scope\n",
    "from sklearn.model_selection import cross_val_score\n",
    "\n",
    "class DecisionTreeTrainer:\n",
    "    def __init__(self, x_train, y_train, x_test, y_test, scaler=None):\n",
    "        self.x_train = x_train\n",
    "        self.y_train = y_train\n",
    "        self.x_test = x_test\n",
    "        self.y_test = y_test\n",
    "        self.scaler = scaler\n",
    "        self.best_model = None\n",
    "\n",
    "    def create_param_grid(self, min_depth, max_depth, depth_step, min_mss, max_mss, mss_step, min_msl, max_msl, msl_step):\n",
    "        return {\n",
    "            'max_depth': range(min_depth, max_depth + 1, depth_step),\n",
    "            'min_samples_split': range(min_mss, max_mss + 1, mss_step),\n",
    "            'min_samples_leaf': range(min_msl, max_msl + 1, msl_step)\n",
    "        }\n",
    "\n",
    "    def train_decision_tree(self, min_depth, max_depth, depth_step, min_mss, max_mss, mss_step, min_msl, max_msl, msl_step, cv, n_jobs, verbose, scoring, search_type='grid'):\n",
    "        # Initialize the DataFrame to hold all results\n",
    "        all_model_results_df = pd.DataFrame(columns=[\n",
    "            'max_depth', 'min_samples_leaf', 'min_samples_split',\n",
    "            'Training Time (s)', 'mean_fit_time', 'std_fit_time',\n",
    "            'mean_score_time', 'std_score_time', 'mean_verification_score',\n",
    "            'std_verification_score', 'rank_verification_score',\n",
    "            'mean_train_score', 'std_train_score'\n",
    "        ])\n",
    "        cv_results = None  # This will be used for search types that provide CV results\n",
    "    \n",
    "        # Define the parameter grid based on the input parameters\n",
    "        param_grid = {\n",
    "            'max_depth': np.arange(min_depth, max_depth + 1, depth_step),\n",
    "            'min_samples_split': np.arange(min_mss, max_mss + 1, mss_step),\n",
    "            'min_samples_leaf': np.arange(min_msl, max_msl + 1, msl_step)\n",
    "        }\n",
    "        \n",
    "        search = None  # Initialize the search method variable\n",
    "\n",
    "        # Configure the appropriate search method based on the input search_type\n",
    "        if search_type == 'grid':\n",
    "            search = GridSearchCV(tree.DecisionTreeRegressor(), param_grid, cv=cv, n_jobs=n_jobs, verbose=verbose, scoring=scoring)\n",
    "        elif search_type == 'random':\n",
    "            search = RandomizedSearchCV(tree.DecisionTreeRegressor(), param_grid, n_iter=50, cv=cv, n_jobs=n_jobs, verbose=verbose, scoring=scoring)\n",
    "        elif search_type == 'halving_grid':\n",
    "            search = HalvingGridSearchCV(tree.DecisionTreeRegressor(), param_grid, cv=cv, verbose=verbose, scoring=scoring, n_jobs=n_jobs)\n",
    "        elif search_type == 'halving_random':\n",
    "            search = HalvingRandomSearchCV(tree.DecisionTreeRegressor(), param_grid, cv=cv, verbose=verbose, scoring=scoring, n_jobs=n_jobs)\n",
    "        elif search_type == 'bayes':\n",
    "            search = BayesSearchCV(tree.DecisionTreeRegressor(), param_grid, n_iter=50, cv=cv, n_jobs=n_jobs, verbose=verbose, scoring=scoring)\n",
    "        elif search_type == 'hyperopt':\n",
    "            # Hyperopt requires a different setup with an objective function\n",
    "            from hyperopt import hp, fmin, tpe, Trials, STATUS_OK\n",
    "    \n",
    "            space = {\n",
    "                'max_depth': hp.choice('max_depth', np.arange(min_depth, max_depth + 1)),\n",
    "                'min_samples_split': hp.choice('min_samples_split', np.arange(min_mss, max_mss + 1)),\n",
    "                'min_samples_leaf': hp.choice('min_samples_leaf', np.arange(min_msl, max_msl + 1))\n",
    "            }\n",
    "    \n",
    "            def objective(params):\n",
    "                model = tree.DecisionTreeRegressor(**params)\n",
    "                model.fit(self.x_train, self.y_train)\n",
    "                preds = model.predict(self.x_test)\n",
    "                loss = mean_absolute_error(self.y_test, preds)\n",
    "                return {'loss': loss, 'status': STATUS_OK}\n",
    "    \n",
    "            trials = Trials()\n",
    "            best = fmin(fn=objective, space=space, algo=tpe.suggest, max_evals=10, trials=trials)\n",
    "            best_params = {\n",
    "                'max_depth': np.arange(min_depth, max_depth + 1)[best['max_depth']],\n",
    "                'min_samples_split': np.arange(min_mss, max_mss + 1)[best['min_samples_split']],\n",
    "                'min_samples_leaf': np.arange(min_msl, max_msl + 1)[best['min_samples_leaf']]\n",
    "            }\n",
    "            self.best_model = tree.DecisionTreeRegressor(**best_params)\n",
    "            self.best_model.fit(self.x_train, self.y_train)\n",
    "    \n",
    "            # Convert trials to a DataFrame\n",
    "            results = trials.results\n",
    "            all_model_results_df = pd.DataFrame(results)\n",
    "    \n",
    "            # Generate the cv_results object\n",
    "            cv_results = None\n",
    "    \n",
    "        # Execute the search if it's not Hyperopt\n",
    "        if search:\n",
    "            start_time = time.time()\n",
    "            search.fit(self.x_train, self.y_train)\n",
    "            end_time = time.time()\n",
    "            self.best_model = search.best_estimator_\n",
    "            cv_results = pd.DataFrame(search.cv_results_) if search_type != 'hyperopt' else None\n",
    "    \n",
    "            # Populate the results DataFrame\n",
    "            for idx, params in enumerate(search.cv_results_['params']):\n",
    "                row = {\n",
    "                    'max_depth': params['max_depth'],\n",
    "                    'min_samples_leaf': params['min_samples_leaf'],\n",
    "                    'min_samples_split': params['min_samples_split'],\n",
    "                    'Training Time (s)': end_time - start_time,\n",
    "                    'mean_fit_time': search.cv_results_['mean_fit_time'][idx],\n",
    "                    'std_fit_time': search.cv_results_['std_fit_time'][idx],\n",
    "                    'mean_score_time': search.cv_results_['mean_score_time'][idx],\n",
    "                    'std_score_time': search.cv_results_['std_score_time'][idx],\n",
    "                    'mean_verification_score': -search.cv_results_['mean_test_score'][idx],\n",
    "                    'std_verification_score': search.cv_results_['std_test_score'][idx],\n",
    "                    'rank_verification_score': search.cv_results_['rank_test_score'][idx],\n",
    "                    'mean_train_score': -search.cv_results_['mean_train_score'][idx],\n",
    "                    'std_train_score': search.cv_results_['std_train_score'][idx],\n",
    "                }\n",
    "                all_model_results_df = all_model_results_df.append(row, ignore_index=True)\n",
    "    \n",
    "        # Calculate the test score using the best model\n",
    "        test_predictions = self.best_model.predict(self.x_test)\n",
    "        test_score = mean_absolute_error(self.y_test, test_predictions)\n",
    "    \n",
    "        return best_params, cv_results, all_model_results_df, test_score\n",
    "\n",
    "\n",
    "    def save_model_and_results(self, save_dir, model_string):\n",
    "        if not os.path.exists(save_dir):\n",
    "            os.makedirs(save_dir)\n",
    "        \n",
    "        model_name = f\"{model_string}.joblib\" ###\n",
    "        scaler_name = f\"{model_string}.pkl\" ###\n",
    "        \n",
    "        model_saving_path = os.path.join(save_dir, model_name)\n",
    "        scaler_saving_path = os.path.join(save_dir, scaler_name) if self.scaler else None\n",
    "\n",
    "        dump(self.best_model, model_saving_path)\n",
    "        if self.scaler:\n",
    "            dump(self.scaler, open(scaler_saving_path, 'wb'))\n",
    "\n",
    "        return model_saving_path, scaler_saving_path\n",
    "\n",
    "    def save_results(self, results_dir, model_saving_path, scaler_saving_path, model_string, all_model_results_df, test_score):\n",
    "        if not os.path.exists(results_dir):\n",
    "            os.makedirs(results_dir)\n",
    "    \n",
    "        params = self.best_model.get_params()\n",
    "        best_dt_results = {\n",
    "            \"model_path\": model_saving_path,\n",
    "            \"scaler_path\": scaler_saving_path if scaler_saving_path else \"None\",\n",
    "            \"max_depth\": params['max_depth'],\n",
    "            \"min_samples_leaf\": params['min_samples_leaf'],\n",
    "            \"min_samples_split\": params['min_samples_split'],\n",
    "            \"Test set score\": test_score,\n",
    "            \"Training Time (s)\": all_model_results_df[\"Training Time (s)\"].iloc[0] if \"Training Time (s)\" in all_model_results_df.columns else None\n",
    "        }\n",
    "\n",
    "        csv_name = f\"{model_string}.csv\" ###\n",
    "        \n",
    "        # Only add train and verification scores if they exist\n",
    "        if \"mean_train_score\" in all_model_results_df.columns:\n",
    "            best_dt_results[\"mean_train_score\"] = all_model_results_df[\"mean_train_score\"].min()\n",
    "            best_dt_results[\"mean_verification_score\"] = all_model_results_df[\"mean_verification_score\"].min()\n",
    "    \n",
    "        best_dt_results_df = pd.DataFrame([best_dt_results])\n",
    "        best_dt_results_filepath = os.path.join(results_dir, f'best_dt_results_{csv_name}')\n",
    "        best_dt_results_df.to_csv(best_dt_results_filepath, index=False)\n",
    "        \n",
    "        all_dt_results_filepath = os.path.join(results_dir, f'all_dt_results.csv_{csv_name}')\n",
    "        all_model_results_df.to_csv(all_dt_results_filepath, index=False)\n",
    "        \n",
    "        return best_dt_results_filepath, all_dt_results_filepath\n"
   ]
  },
  {
   "cell_type": "markdown",
   "id": "db348945-34d7-4005-844c-28d9cc5ec989",
   "metadata": {},
   "source": [
    "# multimodel 2"
   ]
  },
  {
   "cell_type": "code",
   "execution_count": 5,
   "id": "a1cccfd1-bd18-46d7-aeaa-b6776e7da320",
   "metadata": {},
   "outputs": [],
   "source": [
    "import numpy as np\n",
    "import pandas as pd\n",
    "import time\n",
    "from sklearn.tree import DecisionTreeRegressor\n",
    "from sklearn.model_selection import cross_val_score\n",
    "from sklearn.metrics import mean_absolute_error\n",
    "from hyperopt import hp, fmin, tpe, Trials, STATUS_OK\n",
    "from hyperopt.pyll.base import scope\n",
    "from skopt import BayesSearchCV\n",
    "from skopt.space import Integer\n",
    "from sklearn.model_selection import GridSearchCV, RandomizedSearchCV, HalvingGridSearchCV, HalvingRandomSearchCV\n",
    "from joblib import dump\n",
    "\n",
    "class DecisionTreeTrainer:\n",
    "    def __init__(self, x_train, y_train, x_test, y_test, scaler=None):\n",
    "        self.x_train = x_train\n",
    "        self.y_train = y_train\n",
    "        self.x_test = x_test\n",
    "        self.y_test = y_test\n",
    "        self.scaler = scaler\n",
    "        self.best_model = None\n",
    "        self.trials = None\n",
    "\n",
    "    def create_param_grid(self, min_depth, max_depth, depth_step, min_mss, max_mss, mss_step, min_msl, max_msl, msl_step):\n",
    "        return {\n",
    "            'max_depth': np.arange(min_depth, max_depth + 1, depth_step),\n",
    "            'min_samples_split': np.arange(min_mss, max_mss + 1, mss_step),\n",
    "            'min_samples_leaf': np.arange(min_msl, max_msl + 1, msl_step)\n",
    "        }\n",
    "\n",
    "    def train_decision_tree(self, min_depth, max_depth, depth_step, min_mss, max_mss, mss_step, min_msl, max_msl, msl_step, cv, n_jobs, verbose, scoring, search_type='grid'):\n",
    "        param_grid = {\n",
    "            'max_depth': np.arange(min_depth, max_depth + 1, depth_step),\n",
    "            'min_samples_split': np.arange(min_mss, max_mss + 1, mss_step),\n",
    "            'min_samples_leaf': np.arange(min_msl, max_msl + 1, msl_step)\n",
    "        }\n",
    "\n",
    "        cv_results = None \n",
    "        all_model_results_df = pd.DataFrame()  # Initialize empty DataFrame for all results\n",
    "    \n",
    "        if search_type == 'hyperopt':\n",
    "            space = {\n",
    "                'max_depth': hp.choice('max_depth', np.arange(min_depth, max_depth + 1)),\n",
    "                'min_samples_split': hp.choice('min_samples_split', np.arange(min_mss, max_mss + 1)),\n",
    "                'min_samples_leaf': hp.choice('min_samples_leaf', np.arange(min_msl, max_msl + 1))\n",
    "            }\n",
    "    \n",
    "            def objective(params):\n",
    "                model = DecisionTreeRegressor(**params)\n",
    "                # Calculate cross-validation scores\n",
    "                scores = cross_val_score(model, self.x_train, self.y_train, cv=cv, scoring=scoring)\n",
    "                mean_score = np.mean(scores)\n",
    "                model.fit(self.x_train, self.y_train)\n",
    "                test_score = mean_absolute_error(self.y_test, model.predict(self.x_test))\n",
    "                return {'loss': -mean_score, 'status': STATUS_OK, 'mean_score': mean_score, 'test_score': test_score}\n",
    "    \n",
    "            self.trials = Trials()\n",
    "            best = fmin(fn=objective, space=space, algo=tpe.suggest, max_evals=10, trials=self.trials)\n",
    "            best_params = {\n",
    "                'max_depth': np.arange(min_depth, max_depth + 1)[best['max_depth']],\n",
    "                'min_samples_split': np.arange(min_mss, max_mss + 1)[best['min_samples_split']],\n",
    "                'min_samples_leaf': np.arange(min_msl, max_msl + 1)[best['min_samples_leaf']]\n",
    "            }\n",
    "            self.best_model = DecisionTreeRegressor(**best_params)\n",
    "            self.best_model.fit(self.x_train, self.y_train)\n",
    "            # Populate results DataFrame from trials results\n",
    "            for result in self.trials.results:\n",
    "                result_row = {\n",
    "                    'max_depth': best_params['max_depth'],\n",
    "                    'min_samples_split': best_params['min_samples_split'],\n",
    "                    'min_samples_leaf': best_params['min_samples_leaf'],\n",
    "                    'mean_verification_score': result['mean_score'],\n",
    "                    'test_score': result['test_score'],\n",
    "                    'Training Time (s)': result.get('time', None)  # Hypothetical key if timing info available\n",
    "                }\n",
    "                all_model_results_df = all_model_results_df.append(result_row, ignore_index=True)\n",
    "            test_score = mean_absolute_error(self.y_test, self.best_model.predict(self.x_test))\n",
    "        else:\n",
    "            # For other search methods, use scikit-learn's built-in CV search tools\n",
    "            if search_type == 'grid':\n",
    "                search = GridSearchCV(DecisionTreeRegressor(), param_grid, cv=cv, n_jobs=n_jobs, verbose=verbose, scoring=scoring, return_train_score=True)\n",
    "            elif search_type == 'random':\n",
    "                search = RandomizedSearchCV(DecisionTreeRegressor(), param_grid, n_iter=50, cv=cv, n_jobs=n_jobs, verbose=verbose, scoring=scoring, return_train_score=True)\n",
    "            elif search_type == 'halving_grid':\n",
    "                search = HalvingGridSearchCV(DecisionTreeRegressor(), param_grid, cv=cv, verbose=verbose, scoring=scoring, n_jobs=n_jobs, return_train_score=True)\n",
    "            elif search_type == 'halving_random':\n",
    "                search = HalvingRandomSearchCV(DecisionTreeRegressor(), param_grid, cv=cv, verbose=verbose, scoring=scoring, n_jobs=n_jobs, return_train_score=True)\n",
    "            elif search_type == 'bayes':\n",
    "                search = BayesSearchCV(DecisionTreeRegressor(), param_grid, n_iter=50, cv=cv, n_jobs=n_jobs, verbose=verbose, scoring=scoring, return_train_score=True)\n",
    "\n",
    "    \n",
    "            start_time = time.time()\n",
    "            search.fit(self.x_train, self.y_train)\n",
    "            end_time = time.time()\n",
    "            cv_results = search.cv_results_\n",
    "            best_params = search.best_params_\n",
    "            self.best_model = search.best_estimator_\n",
    "            test_score = mean_absolute_error(self.y_test, self.best_model.predict(self.x_test))\n",
    "            # Populate results DataFrame\n",
    "            for idx, params in enumerate(search.cv_results_['params']):\n",
    "                row = {\n",
    "                    'max_depth': params['max_depth'],\n",
    "                    'min_samples_split': params['min_samples_split'],\n",
    "                    'min_samples_leaf': params['min_samples_leaf'],\n",
    "                    'Training Time (s)': end_time - start_time,\n",
    "                    'mean_fit_time': search.cv_results_['mean_fit_time'][idx],\n",
    "                    'std_fit_time': search.cv_results_['std_fit_time'][idx],\n",
    "                    'mean_score_time': search.cv_results_['mean_score_time'][idx],\n",
    "                    'std_score_time': search.cv_results_['std_score_time'][idx],\n",
    "                    'mean_verification_score': -search.cv_results_['mean_test_score'][idx],\n",
    "                    'std_verification_score': search.cv_results_['std_test_score'][idx],\n",
    "                    'rank_verification_score': search.cv_results_['rank_test_score'][idx],\n",
    "                    'mean_train_score': -search.cv_results_['mean_train_score'][idx],\n",
    "                    'std_train_score': search.cv_results_['std_train_score'][idx],\n",
    "                }\n",
    "                all_model_results_df = all_model_results_df.append(row, ignore_index=True)\n",
    "    \n",
    "        return best_params, cv_results, all_model_results_df, test_score\n",
    "\n",
    "    def save_model_and_results(self, save_dir, model_string):\n",
    "        if not os.path.exists(save_dir):\n",
    "            os.makedirs(save_dir)\n",
    "        \n",
    "        model_name = f\"{model_string}.joblib\" ###\n",
    "        scaler_name = f\"{model_string}.pkl\" ###\n",
    "        \n",
    "        model_saving_path = os.path.join(save_dir, model_name)\n",
    "        scaler_saving_path = os.path.join(save_dir, scaler_name) if self.scaler else None\n",
    "\n",
    "        dump(self.best_model, model_saving_path)\n",
    "        if self.scaler:\n",
    "            dump(self.scaler, open(scaler_saving_path, 'wb'))\n",
    "\n",
    "        return model_saving_path, scaler_saving_path\n",
    "\n",
    "    def save_results(self, results_dir, model_saving_path, scaler_saving_path, model_string, all_model_results_df, test_score):\n",
    "        if not os.path.exists(results_dir):\n",
    "            os.makedirs(results_dir)\n",
    "    \n",
    "        params = self.best_model.get_params()\n",
    "        best_dt_results = {\n",
    "            \"model_path\": model_saving_path,\n",
    "            \"scaler_path\": scaler_saving_path if scaler_saving_path else \"None\",\n",
    "            \"max_depth\": params['max_depth'],\n",
    "            \"min_samples_leaf\": params['min_samples_leaf'],\n",
    "            \"min_samples_split\": params['min_samples_split'],\n",
    "            \"Test set score\": test_score,\n",
    "            \"Training Time (s)\": all_model_results_df[\"Training Time (s)\"].iloc[0] if \"Training Time (s)\" in all_model_results_df.columns else None\n",
    "        }\n",
    "\n",
    "        csv_name = f\"{model_string}.csv\" ###\n",
    "        \n",
    "        # Only add train and verification scores if they exist\n",
    "        if \"mean_train_score\" in all_model_results_df.columns:\n",
    "            best_dt_results[\"mean_train_score\"] = all_model_results_df[\"mean_train_score\"].min()\n",
    "            best_dt_results[\"mean_verification_score\"] = all_model_results_df[\"mean_verification_score\"].min()\n",
    "    \n",
    "        best_dt_results_df = pd.DataFrame([best_dt_results])\n",
    "        best_dt_results_filepath = os.path.join(results_dir, f'best_dt_results_{csv_name}')\n",
    "        best_dt_results_df.to_csv(best_dt_results_filepath, index=False)\n",
    "        \n",
    "        all_dt_results_filepath = os.path.join(results_dir, f'all_dt_results.csv_{csv_name}')\n",
    "        all_model_results_df.to_csv(all_dt_results_filepath, index=False)\n",
    "        \n",
    "        return best_dt_results_filepath, all_dt_results_filepath\n"
   ]
  },
  {
   "cell_type": "code",
   "execution_count": null,
   "id": "348557b4-57fb-404f-9b78-2b22fd8a4667",
   "metadata": {},
   "outputs": [],
   "source": [
    "###### Initialize the DecisionTreeTrainer with scaled data\n",
    "dt_trainer = DecisionTreeTrainer(x_train, y_train, x_test, y_test, scaler=scaler)\n",
    "\n",
    "# Set the type of search method to use\n",
    "# Options:\n",
    "# 'grid' - Uses GridSearchCV\n",
    "# 'random' - Uses RandomizedSearchCV\n",
    "# 'halving_grid' - Uses HalvingGridSearchCV with grid reduction\n",
    "# 'halving_random' - Uses HalvingRandomSearchCV with random reduction\n",
    "# 'bayes' - Uses BayesSearchCV for Bayesian optimization\n",
    "# 'hyperopt' - Uses Hyperopt for Bayesian optimization with TPE (Tree of Parzen Estimators)\n",
    "search_type = 'halving_random'  # Choose the search type here\n",
    "\n",
    "# Call the training method with specified hyperparameters and the search type\n",
    "best_params, cv_results, all_model_results_df, test_score = dt_trainer.train_decision_tree(\n",
    "    min_depth=2, max_depth=120, depth_step=5,\n",
    "    min_mss=2, max_mss=16, mss_step=2,\n",
    "    min_msl=1, max_msl=12, msl_step=1,\n",
    "    cv=2, n_jobs=-1, verbose=2, scoring='neg_mean_absolute_error',\n",
    "    search_type=search_type\n",
    ")\n",
    "\n",
    "# Create a string for model name based on data parameters\n",
    "model_name_suffix = f\"mode={mode}_log={log}_lowen={low_en}_maxen={max_en}_num={num}_basic={basic}_filters={filters}_normalize={normalize}\"\n",
    "model_name_suffix = model_name_suffix.replace(\"=\", \"-\").replace(\".\", \"p\")\n",
    "model_name = f\"best_dt_model_{search_type}_{model_name_suffix}\" \n",
    "\n",
    "# save the model\n",
    "model_saving_path, scaler_saving_path = dt_trainer.save_model_and_results('models/save', model_name)\n",
    "results_filepath, all_model_results_filepath = dt_trainer.save_results('models/results', model_saving_path, scaler_saving_path, model_name, all_model_results_df, test_score)\n",
    "\n",
    "# Output results\n",
    "print(\"Best Parameters:\", best_params)\n",
    "print(\"Test MAE:\", test_score)"
   ]
  },
  {
   "cell_type": "code",
   "execution_count": null,
   "id": "44d6cf46-3654-49c8-b980-694ffdbd540f",
   "metadata": {},
   "outputs": [],
   "source": []
  },
  {
   "cell_type": "code",
   "execution_count": 13,
   "id": "957722bf-c09f-4ee4-814a-7eeb2f2b6997",
   "metadata": {},
   "outputs": [
    {
     "data": {
      "image/png": "[encoded data removed]",
      "text/plain": [
       "<Figure size 1000x1000 with 20 Axes>"
      ]
     },
     "metadata": {},
     "output_type": "display_data"
    }
   ],
   "source": [
    "import seaborn as sns\n",
    "import matplotlib.pyplot as plt\n",
    "\n",
    "# Assuming all_model_results_df has columns for each parameter and 'mean_verification_score'\n",
    "sns.pairplot(all_model_results_df, vars=['max_depth', 'min_samples_split', 'min_samples_leaf', 'mean_verification_score'],\n",
    "             diag_kind='kde', plot_kws={'alpha': 0.6, 's': 80, 'edgecolor': 'k'}, height=2.5)\n",
    "plt.suptitle('Corner Plot of Hyperparameters', size=2)\n",
    "plt.subplots_adjust(top=0.95)\n",
    "plt.show()\n"
   ]
  },
  {
   "cell_type": "code",
   "execution_count": null,
   "id": "eb77d68b-df93-4ea4-93af-89e335656a12",
   "metadata": {},
   "outputs": [],
   "source": []
  },
  {
   "cell_type": "code",
   "execution_count": 14,
   "id": "bd93d694-b03e-44fc-9f88-396695fe231c",
   "metadata": {},
   "outputs": [
    {
     "data": {
      "application/vnd.plotly.v1+json": {
       "config": {
        "plotlyServerURL": "https://plot.ly"
       },
       "data": [
        {
         "hovertemplate": "max_depth=%{x}<br>min_samples_split=%{y}<br>min_samples_leaf=%{z}<br>mean_verification_score=%{marker.color}<extra></extra>",
         "legendgroup": "",
         "marker": {
          "color": [
           0.13245980904859286,
           0.13161712413114388,
           0.13093007442836307,
           0.1282521582311008,
           0.12921327409087016,
           0.16856242512913422,
           0.38537145230870445,
           0.1311972288738641,
           0.1323470131246075,
           0.13291130655402605,
           0.46879489901281235,
           0.13329047465743088,
           0.13126790431218477,
           0.13148848816487635,
           0.13518477747287147,
           0.2071892470644197,
           0.130704163275486,
           0.133356674717158,
           0.1284944198657243,
           0.274860278003923,
           0.13709637768236665,
           0.12919121055105215,
           0.12993039205352208,
           0.42088588773712343,
           0.1861123247913934,
           0.1306654741258178,
           0.4687948990128119,
           0.1446631581167913,
           0.129210974536708,
           0.14570177201975335,
           0.13234912854085779,
           0.1315938273085793,
           0.12907868798997718,
           0.1288778530861433,
           0.13159700554863607,
           0.25417467216391365,
           0.20710974756159034,
           0.46879489901281224,
           0.12910306841173566,
           0.13258835523692988,
           0.12946329315655047,
           0.13028122198048744,
           0.13158927340793786,
           0.1284934190989543,
           0.13995763909120784,
           0.12909498062353086,
           0.16136121305679624,
           0.13329055755577135,
           0.13246312405416374,
           0.12842904263672086
          ],
          "coloraxis": "coloraxis",
          "opacity": 0.7,
          "size": 2,
          "symbol": "circle"
         },
         "mode": "markers",
         "name": "",
         "scene": "scene",
         "showlegend": false,
         "type": "scatter3d",
         "x": [
          92,
          48,
          100,
          79,
          61,
          17,
          4,
          34,
          74,
          118,
          2,
          97,
          40,
          87,
          24,
          13,
          105,
          27,
          86,
          9,
          44,
          74,
          50,
          3,
          15,
          71,
          2,
          21,
          65,
          21,
          52,
          66,
          103,
          57,
          53,
          10,
          13,
          2,
          72,
          40,
          60,
          30,
          57,
          64,
          44,
          58,
          18,
          98,
          90,
          40
         ],
         "y": [
          12,
          10,
          16,
          2,
          8,
          6,
          8,
          14,
          4,
          8,
          2,
          10,
          12,
          6,
          10,
          10,
          8,
          6,
          8,
          16,
          4,
          16,
          14,
          2,
          14,
          8,
          2,
          4,
          8,
          2,
          4,
          6,
          12,
          14,
          16,
          8,
          8,
          4,
          4,
          4,
          16,
          12,
          8,
          12,
          2,
          2,
          10,
          8,
          12,
          10
         ],
         "z": [
          11,
          10,
          1,
          5,
          3,
          4,
          10,
          9,
          2,
          1,
          4,
          12,
          1,
          2,
          6,
          7,
          9,
          9,
          6,
          5,
          1,
          6,
          2,
          2,
          1,
          2,
          10,
          7,
          3,
          9,
          2,
          10,
          3,
          4,
          10,
          6,
          5,
          9,
          7,
          11,
          3,
          7,
          10,
          6,
          1,
          7,
          5,
          12,
          11,
          5
         ]
        }
       ],
       "layout": {
        "autosize": true,
        "coloraxis": {
         "colorbar": {
          "title": {
           "text": "mean_verification_score"
          }
         },
         "colorscale": [
          [
           0,
           "#440154"
          ],
          [
           0.1111111111111111,
           "#482878"
          ],
          [
           0.2222222222222222,
           "#3e4989"
          ],
          [
           0.3333333333333333,
           "#31688e"
          ],
          [
           0.4444444444444444,
           "#26828e"
          ],
          [
           0.5555555555555556,
           "#1f9e89"
          ],
          [
           0.6666666666666666,
           "#35b779"
          ],
          [
           0.7777777777777778,
           "#6ece58"
          ],
          [
           0.8888888888888888,
           "#b5de2b"
          ],
          [
           1,
           "#fde725"
          ]
         ]
        },
        "legend": {
         "tracegroupgap": 0
        },
        "scene": {
         "aspectmode": "auto",
         "aspectratio": {
          "x": 1,
          "y": 1,
          "z": 1
         },
         "camera": {
          "center": {
           "x": 0,
           "y": 0,
           "z": 0
          },
          "eye": {
           "x": 0.8178395177866726,
           "y": 1.1065699305381413,
           "z": 0.33725793433057005
          },
          "projection": {
           "type": "perspective"
          },
          "up": {
           "x": 0,
           "y": 0,
           "z": 1
          }
         },
         "domain": {
          "x": [
           0,
           1
          ],
          "y": [
           0,
           1
          ]
         },
         "xaxis": {
          "title": {
           "text": "max_depth"
          },
          "type": "linear"
         },
         "yaxis": {
          "title": {
           "text": "min_samples_split"
          },
          "type": "linear"
         },
         "zaxis": {
          "title": {
           "text": "min_samples_leaf"
          },
          "type": "linear"
         }
        },
        "template": {
         "data": {
          "bar": [
           {
            "error_x": {
             "color": "#2a3f5f"
            },
            "error_y": {
             "color": "#2a3f5f"
            },
            "marker": {
             "line": {
              "color": "#E5ECF6",
              "width": 0.5
             },
             "pattern": {
              "fillmode": "overlay",
              "size": 10,
              "solidity": 0.2
             }
            },
            "type": "bar"
           }
          ],
          "barpolar": [
           {
            "marker": {
             "line": {
              "color": "#E5ECF6",
              "width": 0.5
             },
             "pattern": {
              "fillmode": "overlay",
              "size": 10,
              "solidity": 0.2
             }
            },
            "type": "barpolar"
           }
          ],
          "carpet": [
           {
            "aaxis": {
             "endlinecolor": "#2a3f5f",
             "gridcolor": "white",
             "linecolor": "white",
             "minorgridcolor": "white",
             "startlinecolor": "#2a3f5f"
            },
            "baxis": {
             "endlinecolor": "#2a3f5f",
             "gridcolor": "white",
             "linecolor": "white",
             "minorgridcolor": "white",
             "startlinecolor": "#2a3f5f"
            },
            "type": "carpet"
           }
          ],
          "choropleth": [
           {
            "colorbar": {
             "outlinewidth": 0,
             "ticks": ""
            },
            "type": "choropleth"
           }
          ],
          "contour": [
           {
            "colorbar": {
             "outlinewidth": 0,
             "ticks": ""
            },
            "colorscale": [
             [
              0,
              "#0d0887"
             ],
             [
              0.1111111111111111,
              "#46039f"
             ],
             [
              0.2222222222222222,
              "#7201a8"
             ],
             [
              0.3333333333333333,
              "#9c179e"
             ],
             [
              0.4444444444444444,
              "#bd3786"
             ],
             [
              0.5555555555555556,
              "#d8576b"
             ],
             [
              0.6666666666666666,
              "#ed7953"
             ],
             [
              0.7777777777777778,
              "#fb9f3a"
             ],
             [
              0.8888888888888888,
              "#fdca26"
             ],
             [
              1,
              "#f0f921"
             ]
            ],
            "type": "contour"
           }
          ],
          "contourcarpet": [
           {
            "colorbar": {
             "outlinewidth": 0,
             "ticks": ""
            },
            "type": "contourcarpet"
           }
          ],
          "heatmap": [
           {
            "colorbar": {
             "outlinewidth": 0,
             "ticks": ""
            },
            "colorscale": [
             [
              0,
              "#0d0887"
             ],
             [
              0.1111111111111111,
              "#46039f"
             ],
             [
              0.2222222222222222,
              "#7201a8"
             ],
             [
              0.3333333333333333,
              "#9c179e"
             ],
             [
              0.4444444444444444,
              "#bd3786"
             ],
             [
              0.5555555555555556,
              "#d8576b"
             ],
             [
              0.6666666666666666,
              "#ed7953"
             ],
             [
              0.7777777777777778,
              "#fb9f3a"
             ],
             [
              0.8888888888888888,
              "#fdca26"
             ],
             [
              1,
              "#f0f921"
             ]
            ],
            "type": "heatmap"
           }
          ],
          "heatmapgl": [
           {
            "colorbar": {
             "outlinewidth": 0,
             "ticks": ""
            },
            "colorscale": [
             [
              0,
              "#0d0887"
             ],
             [
              0.1111111111111111,
              "#46039f"
             ],
             [
              0.2222222222222222,
              "#7201a8"
             ],
             [
              0.3333333333333333,
              "#9c179e"
             ],
             [
              0.4444444444444444,
              "#bd3786"
             ],
             [
              0.5555555555555556,
              "#d8576b"
             ],
             [
              0.6666666666666666,
              "#ed7953"
             ],
             [
              0.7777777777777778,
              "#fb9f3a"
             ],
             [
              0.8888888888888888,
              "#fdca26"
             ],
             [
              1,
              "#f0f921"
             ]
            ],
            "type": "heatmapgl"
           }
          ],
          "histogram": [
           {
            "marker": {
             "pattern": {
              "fillmode": "overlay",
              "size": 10,
              "solidity": 0.2
             }
            },
            "type": "histogram"
           }
          ],
          "histogram2d": [
           {
            "colorbar": {
             "outlinewidth": 0,
             "ticks": ""
            },
            "colorscale": [
             [
              0,
              "#0d0887"
             ],
             [
              0.1111111111111111,
              "#46039f"
             ],
             [
              0.2222222222222222,
              "#7201a8"
             ],
             [
              0.3333333333333333,
              "#9c179e"
             ],
             [
              0.4444444444444444,
              "#bd3786"
             ],
             [
              0.5555555555555556,
              "#d8576b"
             ],
             [
              0.6666666666666666,
              "#ed7953"
             ],
             [
              0.7777777777777778,
              "#fb9f3a"
             ],
             [
              0.8888888888888888,
              "#fdca26"
             ],
             [
              1,
              "#f0f921"
             ]
            ],
            "type": "histogram2d"
           }
          ],
          "histogram2dcontour": [
           {
            "colorbar": {
             "outlinewidth": 0,
             "ticks": ""
            },
            "colorscale": [
             [
              0,
              "#0d0887"
             ],
             [
              0.1111111111111111,
              "#46039f"
             ],
             [
              0.2222222222222222,
              "#7201a8"
             ],
             [
              0.3333333333333333,
              "#9c179e"
             ],
             [
              0.4444444444444444,
              "#bd3786"
             ],
             [
              0.5555555555555556,
              "#d8576b"
             ],
             [
              0.6666666666666666,
              "#ed7953"
             ],
             [
              0.7777777777777778,
              "#fb9f3a"
             ],
             [
              0.8888888888888888,
              "#fdca26"
             ],
             [
              1,
              "#f0f921"
             ]
            ],
            "type": "histogram2dcontour"
           }
          ],
          "mesh3d": [
           {
            "colorbar": {
             "outlinewidth": 0,
             "ticks": ""
            },
            "type": "mesh3d"
           }
          ],
          "parcoords": [
           {
            "line": {
             "colorbar": {
              "outlinewidth": 0,
              "ticks": ""
             }
            },
            "type": "parcoords"
           }
          ],
          "pie": [
           {
            "automargin": true,
            "type": "pie"
           }
          ],
          "scatter": [
           {
            "fillpattern": {
             "fillmode": "overlay",
             "size": 10,
             "solidity": 0.2
            },
            "type": "scatter"
           }
          ],
          "scatter3d": [
           {
            "line": {
             "colorbar": {
              "outlinewidth": 0,
              "ticks": ""
             }
            },
            "marker": {
             "colorbar": {
              "outlinewidth": 0,
              "ticks": ""
             }
            },
            "type": "scatter3d"
           }
          ],
          "scattercarpet": [
           {
            "marker": {
             "colorbar": {
              "outlinewidth": 0,
              "ticks": ""
             }
            },
            "type": "scattercarpet"
           }
          ],
          "scattergeo": [
           {
            "marker": {
             "colorbar": {
              "outlinewidth": 0,
              "ticks": ""
             }
            },
            "type": "scattergeo"
           }
          ],
          "scattergl": [
           {
            "marker": {
             "colorbar": {
              "outlinewidth": 0,
              "ticks": ""
             }
            },
            "type": "scattergl"
           }
          ],
          "scattermapbox": [
           {
            "marker": {
             "colorbar": {
              "outlinewidth": 0,
              "ticks": ""
             }
            },
            "type": "scattermapbox"
           }
          ],
          "scatterpolar": [
           {
            "marker": {
             "colorbar": {
              "outlinewidth": 0,
              "ticks": ""
             }
            },
            "type": "scatterpolar"
           }
          ],
          "scatterpolargl": [
           {
            "marker": {
             "colorbar": {
              "outlinewidth": 0,
              "ticks": ""
             }
            },
            "type": "scatterpolargl"
           }
          ],
          "scatterternary": [
           {
            "marker": {
             "colorbar": {
              "outlinewidth": 0,
              "ticks": ""
             }
            },
            "type": "scatterternary"
           }
          ],
          "surface": [
           {
            "colorbar": {
             "outlinewidth": 0,
             "ticks": ""
            },
            "colorscale": [
             [
              0,
              "#0d0887"
             ],
             [
              0.1111111111111111,
              "#46039f"
             ],
             [
              0.2222222222222222,
              "#7201a8"
             ],
             [
              0.3333333333333333,
              "#9c179e"
             ],
             [
              0.4444444444444444,
              "#bd3786"
             ],
             [
              0.5555555555555556,
              "#d8576b"
             ],
             [
              0.6666666666666666,
              "#ed7953"
             ],
             [
              0.7777777777777778,
              "#fb9f3a"
             ],
             [
              0.8888888888888888,
              "#fdca26"
             ],
             [
              1,
              "#f0f921"
             ]
            ],
            "type": "surface"
           }
          ],
          "table": [
           {
            "cells": {
             "fill": {
              "color": "#EBF0F8"
             },
             "line": {
              "color": "white"
             }
            },
            "header": {
             "fill": {
              "color": "#C8D4E3"
             },
             "line": {
              "color": "white"
             }
            },
            "type": "table"
           }
          ]
         },
         "layout": {
          "annotationdefaults": {
           "arrowcolor": "#2a3f5f",
           "arrowhead": 0,
           "arrowwidth": 1
          },
          "autotypenumbers": "strict",
          "coloraxis": {
           "colorbar": {
            "outlinewidth": 0,
            "ticks": ""
           }
          },
          "colorscale": {
           "diverging": [
            [
             0,
             "#8e0152"
            ],
            [
             0.1,
             "#c51b7d"
            ],
            [
             0.2,
             "#de77ae"
            ],
            [
             0.3,
             "#f1b6da"
            ],
            [
             0.4,
             "#fde0ef"
            ],
            [
             0.5,
             "#f7f7f7"
            ],
            [
             0.6,
             "#e6f5d0"
            ],
            [
             0.7,
             "#b8e186"
            ],
            [
             0.8,
             "#7fbc41"
            ],
            [
             0.9,
             "#4d9221"
            ],
            [
             1,
             "#276419"
            ]
           ],
           "sequential": [
            [
             0,
             "#0d0887"
            ],
            [
             0.1111111111111111,
             "#46039f"
            ],
            [
             0.2222222222222222,
             "#7201a8"
            ],
            [
             0.3333333333333333,
             "#9c179e"
            ],
            [
             0.4444444444444444,
             "#bd3786"
            ],
            [
             0.5555555555555556,
             "#d8576b"
            ],
            [
             0.6666666666666666,
             "#ed7953"
            ],
            [
             0.7777777777777778,
             "#fb9f3a"
            ],
            [
             0.8888888888888888,
             "#fdca26"
            ],
            [
             1,
             "#f0f921"
            ]
           ],
           "sequentialminus": [
            [
             0,
             "#0d0887"
            ],
            [
             0.1111111111111111,
             "#46039f"
            ],
            [
             0.2222222222222222,
             "#7201a8"
            ],
            [
             0.3333333333333333,
             "#9c179e"
            ],
            [
             0.4444444444444444,
             "#bd3786"
            ],
            [
             0.5555555555555556,
             "#d8576b"
            ],
            [
             0.6666666666666666,
             "#ed7953"
            ],
            [
             0.7777777777777778,
             "#fb9f3a"
            ],
            [
             0.8888888888888888,
             "#fdca26"
            ],
            [
             1,
             "#f0f921"
            ]
           ]
          },
          "colorway": [
           "#636efa",
           "#EF553B",
           "#00cc96",
           "#ab63fa",
           "#FFA15A",
           "#19d3f3",
           "#FF6692",
           "#B6E880",
           "#FF97FF",
           "#FECB52"
          ],
          "font": {
           "color": "#2a3f5f"
          },
          "geo": {
           "bgcolor": "white",
           "lakecolor": "white",
           "landcolor": "#E5ECF6",
           "showlakes": true,
           "showland": true,
           "subunitcolor": "white"
          },
          "hoverlabel": {
           "align": "left"
          },
          "hovermode": "closest",
          "mapbox": {
           "style": "light"
          },
          "paper_bgcolor": "white",
          "plot_bgcolor": "#E5ECF6",
          "polar": {
           "angularaxis": {
            "gridcolor": "white",
            "linecolor": "white",
            "ticks": ""
           },
           "bgcolor": "#E5ECF6",
           "radialaxis": {
            "gridcolor": "white",
            "linecolor": "white",
            "ticks": ""
           }
          },
          "scene": {
           "xaxis": {
            "backgroundcolor": "#E5ECF6",
            "gridcolor": "white",
            "gridwidth": 2,
            "linecolor": "white",
            "showbackground": true,
            "ticks": "",
            "zerolinecolor": "white"
           },
           "yaxis": {
            "backgroundcolor": "#E5ECF6",
            "gridcolor": "white",
            "gridwidth": 2,
            "linecolor": "white",
            "showbackground": true,
            "ticks": "",
            "zerolinecolor": "white"
           },
           "zaxis": {
            "backgroundcolor": "#E5ECF6",
            "gridcolor": "white",
            "gridwidth": 2,
            "linecolor": "white",
            "showbackground": true,
            "ticks": "",
            "zerolinecolor": "white"
           }
          },
          "shapedefaults": {
           "line": {
            "color": "#2a3f5f"
           }
          },
          "ternary": {
           "aaxis": {
            "gridcolor": "white",
            "linecolor": "white",
            "ticks": ""
           },
           "baxis": {
            "gridcolor": "white",
            "linecolor": "white",
            "ticks": ""
           },
           "bgcolor": "#E5ECF6",
           "caxis": {
            "gridcolor": "white",
            "linecolor": "white",
            "ticks": ""
           }
          },
          "title": {
           "x": 0.05
          },
          "xaxis": {
           "automargin": true,
           "gridcolor": "white",
           "linecolor": "white",
           "ticks": "",
           "title": {
            "standoff": 15
           },
           "zerolinecolor": "white",
           "zerolinewidth": 2
          },
          "yaxis": {
           "automargin": true,
           "gridcolor": "white",
           "linecolor": "white",
           "ticks": "",
           "title": {
            "standoff": 15
           },
           "zerolinecolor": "white",
           "zerolinewidth": 2
          }
         }
        },
        "title": {
         "text": "3D Plot of Hyperparameters vs. Performance"
        }
       }
      },
      "image/png": "[encoded data removed]",
      "text/html": [
       "<div>                            <div id=\"4a198ae3-3d81-4d50-9827-0cbd273d5a15\" class=\"plotly-graph-div\" style=\"height:525px; width:100%;\"></div>            <script type=\"text/javascript\">                require([\"plotly\"], function(Plotly) {                    window.PLOTLYENV=window.PLOTLYENV || {};                                    if (document.getElementById(\"4a198ae3-3d81-4d50-9827-0cbd273d5a15\")) {                    Plotly.newPlot(                        \"4a198ae3-3d81-4d50-9827-0cbd273d5a15\",                        [{\"hovertemplate\":\"max_depth=%{x}\\u003cbr\\u003emin_samples_split=%{y}\\u003cbr\\u003emin_samples_leaf=%{z}\\u003cbr\\u003emean_verification_score=%{marker.color}\\u003cextra\\u003e\\u003c\\u002fextra\\u003e\",\"legendgroup\":\"\",\"marker\":{\"color\":[0.13245980904859286,0.13161712413114388,0.13093007442836307,0.1282521582311008,0.12921327409087016,0.16856242512913422,0.38537145230870445,0.1311972288738641,0.1323470131246075,0.13291130655402605,0.46879489901281235,0.13329047465743088,0.13126790431218477,0.13148848816487635,0.13518477747287147,0.2071892470644197,0.130704163275486,0.133356674717158,0.1284944198657243,0.274860278003923,0.13709637768236665,0.12919121055105215,0.12993039205352208,0.42088588773712343,0.1861123247913934,0.1306654741258178,0.4687948990128119,0.1446631581167913,0.129210974536708,0.14570177201975335,0.13234912854085779,0.1315938273085793,0.12907868798997718,0.1288778530861433,0.13159700554863607,0.25417467216391365,0.20710974756159034,0.46879489901281224,0.12910306841173566,0.13258835523692988,0.12946329315655047,0.13028122198048744,0.13158927340793786,0.1284934190989543,0.13995763909120784,0.12909498062353086,0.16136121305679624,0.13329055755577135,0.13246312405416374,0.12842904263672086],\"coloraxis\":\"coloraxis\",\"opacity\":0.7,\"symbol\":\"circle\",\"size\":2},\"mode\":\"markers\",\"name\":\"\",\"scene\":\"scene\",\"showlegend\":false,\"x\":[92.0,48.0,100.0,79.0,61.0,17.0,4.0,34.0,74.0,118.0,2.0,97.0,40.0,87.0,24.0,13.0,105.0,27.0,86.0,9.0,44.0,74.0,50.0,3.0,15.0,71.0,2.0,21.0,65.0,21.0,52.0,66.0,103.0,57.0,53.0,10.0,13.0,2.0,72.0,40.0,60.0,30.0,57.0,64.0,44.0,58.0,18.0,98.0,90.0,40.0],\"y\":[12.0,10.0,16.0,2.0,8.0,6.0,8.0,14.0,4.0,8.0,2.0,10.0,12.0,6.0,10.0,10.0,8.0,6.0,8.0,16.0,4.0,16.0,14.0,2.0,14.0,8.0,2.0,4.0,8.0,2.0,4.0,6.0,12.0,14.0,16.0,8.0,8.0,4.0,4.0,4.0,16.0,12.0,8.0,12.0,2.0,2.0,10.0,8.0,12.0,10.0],\"z\":[11.0,10.0,1.0,5.0,3.0,4.0,10.0,9.0,2.0,1.0,4.0,12.0,1.0,2.0,6.0,7.0,9.0,9.0,6.0,5.0,1.0,6.0,2.0,2.0,1.0,2.0,10.0,7.0,3.0,9.0,2.0,10.0,3.0,4.0,10.0,6.0,5.0,9.0,7.0,11.0,3.0,7.0,10.0,6.0,1.0,7.0,5.0,12.0,11.0,5.0],\"type\":\"scatter3d\"}],                        {\"template\":{\"data\":{\"histogram2dcontour\":[{\"type\":\"histogram2dcontour\",\"colorbar\":{\"outlinewidth\":0,\"ticks\":\"\"},\"colorscale\":[[0.0,\"#0d0887\"],[0.1111111111111111,\"#46039f\"],[0.2222222222222222,\"#7201a8\"],[0.3333333333333333,\"#9c179e\"],[0.4444444444444444,\"#bd3786\"],[0.5555555555555556,\"#d8576b\"],[0.6666666666666666,\"#ed7953\"],[0.7777777777777778,\"#fb9f3a\"],[0.8888888888888888,\"#fdca26\"],[1.0,\"#f0f921\"]]}],\"choropleth\":[{\"type\":\"choropleth\",\"colorbar\":{\"outlinewidth\":0,\"ticks\":\"\"}}],\"histogram2d\":[{\"type\":\"histogram2d\",\"colorbar\":{\"outlinewidth\":0,\"ticks\":\"\"},\"colorscale\":[[0.0,\"#0d0887\"],[0.1111111111111111,\"#46039f\"],[0.2222222222222222,\"#7201a8\"],[0.3333333333333333,\"#9c179e\"],[0.4444444444444444,\"#bd3786\"],[0.5555555555555556,\"#d8576b\"],[0.6666666666666666,\"#ed7953\"],[0.7777777777777778,\"#fb9f3a\"],[0.8888888888888888,\"#fdca26\"],[1.0,\"#f0f921\"]]}],\"heatmap\":[{\"type\":\"heatmap\",\"colorbar\":{\"outlinewidth\":0,\"ticks\":\"\"},\"colorscale\":[[0.0,\"#0d0887\"],[0.1111111111111111,\"#46039f\"],[0.2222222222222222,\"#7201a8\"],[0.3333333333333333,\"#9c179e\"],[0.4444444444444444,\"#bd3786\"],[0.5555555555555556,\"#d8576b\"],[0.6666666666666666,\"#ed7953\"],[0.7777777777777778,\"#fb9f3a\"],[0.8888888888888888,\"#fdca26\"],[1.0,\"#f0f921\"]]}],\"heatmapgl\":[{\"type\":\"heatmapgl\",\"colorbar\":{\"outlinewidth\":0,\"ticks\":\"\"},\"colorscale\":[[0.0,\"#0d0887\"],[0.1111111111111111,\"#46039f\"],[0.2222222222222222,\"#7201a8\"],[0.3333333333333333,\"#9c179e\"],[0.4444444444444444,\"#bd3786\"],[0.5555555555555556,\"#d8576b\"],[0.6666666666666666,\"#ed7953\"],[0.7777777777777778,\"#fb9f3a\"],[0.8888888888888888,\"#fdca26\"],[1.0,\"#f0f921\"]]}],\"contourcarpet\":[{\"type\":\"contourcarpet\",\"colorbar\":{\"outlinewidth\":0,\"ticks\":\"\"}}],\"contour\":[{\"type\":\"contour\",\"colorbar\":{\"outlinewidth\":0,\"ticks\":\"\"},\"colorscale\":[[0.0,\"#0d0887\"],[0.1111111111111111,\"#46039f\"],[0.2222222222222222,\"#7201a8\"],[0.3333333333333333,\"#9c179e\"],[0.4444444444444444,\"#bd3786\"],[0.5555555555555556,\"#d8576b\"],[0.6666666666666666,\"#ed7953\"],[0.7777777777777778,\"#fb9f3a\"],[0.8888888888888888,\"#fdca26\"],[1.0,\"#f0f921\"]]}],\"surface\":[{\"type\":\"surface\",\"colorbar\":{\"outlinewidth\":0,\"ticks\":\"\"},\"colorscale\":[[0.0,\"#0d0887\"],[0.1111111111111111,\"#46039f\"],[0.2222222222222222,\"#7201a8\"],[0.3333333333333333,\"#9c179e\"],[0.4444444444444444,\"#bd3786\"],[0.5555555555555556,\"#d8576b\"],[0.6666666666666666,\"#ed7953\"],[0.7777777777777778,\"#fb9f3a\"],[0.8888888888888888,\"#fdca26\"],[1.0,\"#f0f921\"]]}],\"mesh3d\":[{\"type\":\"mesh3d\",\"colorbar\":{\"outlinewidth\":0,\"ticks\":\"\"}}],\"scatter\":[{\"fillpattern\":{\"fillmode\":\"overlay\",\"size\":10,\"solidity\":0.2},\"type\":\"scatter\"}],\"parcoords\":[{\"type\":\"parcoords\",\"line\":{\"colorbar\":{\"outlinewidth\":0,\"ticks\":\"\"}}}],\"scatterpolargl\":[{\"type\":\"scatterpolargl\",\"marker\":{\"colorbar\":{\"outlinewidth\":0,\"ticks\":\"\"}}}],\"bar\":[{\"error_x\":{\"color\":\"#2a3f5f\"},\"error_y\":{\"color\":\"#2a3f5f\"},\"marker\":{\"line\":{\"color\":\"#E5ECF6\",\"width\":0.5},\"pattern\":{\"fillmode\":\"overlay\",\"size\":10,\"solidity\":0.2}},\"type\":\"bar\"}],\"scattergeo\":[{\"type\":\"scattergeo\",\"marker\":{\"colorbar\":{\"outlinewidth\":0,\"ticks\":\"\"}}}],\"scatterpolar\":[{\"type\":\"scatterpolar\",\"marker\":{\"colorbar\":{\"outlinewidth\":0,\"ticks\":\"\"}}}],\"histogram\":[{\"marker\":{\"pattern\":{\"fillmode\":\"overlay\",\"size\":10,\"solidity\":0.2}},\"type\":\"histogram\"}],\"scattergl\":[{\"type\":\"scattergl\",\"marker\":{\"colorbar\":{\"outlinewidth\":0,\"ticks\":\"\"}}}],\"scatter3d\":[{\"type\":\"scatter3d\",\"line\":{\"colorbar\":{\"outlinewidth\":0,\"ticks\":\"\"}},\"marker\":{\"colorbar\":{\"outlinewidth\":0,\"ticks\":\"\"}}}],\"scattermapbox\":[{\"type\":\"scattermapbox\",\"marker\":{\"colorbar\":{\"outlinewidth\":0,\"ticks\":\"\"}}}],\"scatterternary\":[{\"type\":\"scatterternary\",\"marker\":{\"colorbar\":{\"outlinewidth\":0,\"ticks\":\"\"}}}],\"scattercarpet\":[{\"type\":\"scattercarpet\",\"marker\":{\"colorbar\":{\"outlinewidth\":0,\"ticks\":\"\"}}}],\"carpet\":[{\"aaxis\":{\"endlinecolor\":\"#2a3f5f\",\"gridcolor\":\"white\",\"linecolor\":\"white\",\"minorgridcolor\":\"white\",\"startlinecolor\":\"#2a3f5f\"},\"baxis\":{\"endlinecolor\":\"#2a3f5f\",\"gridcolor\":\"white\",\"linecolor\":\"white\",\"minorgridcolor\":\"white\",\"startlinecolor\":\"#2a3f5f\"},\"type\":\"carpet\"}],\"table\":[{\"cells\":{\"fill\":{\"color\":\"#EBF0F8\"},\"line\":{\"color\":\"white\"}},\"header\":{\"fill\":{\"color\":\"#C8D4E3\"},\"line\":{\"color\":\"white\"}},\"type\":\"table\"}],\"barpolar\":[{\"marker\":{\"line\":{\"color\":\"#E5ECF6\",\"width\":0.5},\"pattern\":{\"fillmode\":\"overlay\",\"size\":10,\"solidity\":0.2}},\"type\":\"barpolar\"}],\"pie\":[{\"automargin\":true,\"type\":\"pie\"}]},\"layout\":{\"autotypenumbers\":\"strict\",\"colorway\":[\"#636efa\",\"#EF553B\",\"#00cc96\",\"#ab63fa\",\"#FFA15A\",\"#19d3f3\",\"#FF6692\",\"#B6E880\",\"#FF97FF\",\"#FECB52\"],\"font\":{\"color\":\"#2a3f5f\"},\"hovermode\":\"closest\",\"hoverlabel\":{\"align\":\"left\"},\"paper_bgcolor\":\"white\",\"plot_bgcolor\":\"#E5ECF6\",\"polar\":{\"bgcolor\":\"#E5ECF6\",\"angularaxis\":{\"gridcolor\":\"white\",\"linecolor\":\"white\",\"ticks\":\"\"},\"radialaxis\":{\"gridcolor\":\"white\",\"linecolor\":\"white\",\"ticks\":\"\"}},\"ternary\":{\"bgcolor\":\"#E5ECF6\",\"aaxis\":{\"gridcolor\":\"white\",\"linecolor\":\"white\",\"ticks\":\"\"},\"baxis\":{\"gridcolor\":\"white\",\"linecolor\":\"white\",\"ticks\":\"\"},\"caxis\":{\"gridcolor\":\"white\",\"linecolor\":\"white\",\"ticks\":\"\"}},\"coloraxis\":{\"colorbar\":{\"outlinewidth\":0,\"ticks\":\"\"}},\"colorscale\":{\"sequential\":[[0.0,\"#0d0887\"],[0.1111111111111111,\"#46039f\"],[0.2222222222222222,\"#7201a8\"],[0.3333333333333333,\"#9c179e\"],[0.4444444444444444,\"#bd3786\"],[0.5555555555555556,\"#d8576b\"],[0.6666666666666666,\"#ed7953\"],[0.7777777777777778,\"#fb9f3a\"],[0.8888888888888888,\"#fdca26\"],[1.0,\"#f0f921\"]],\"sequentialminus\":[[0.0,\"#0d0887\"],[0.1111111111111111,\"#46039f\"],[0.2222222222222222,\"#7201a8\"],[0.3333333333333333,\"#9c179e\"],[0.4444444444444444,\"#bd3786\"],[0.5555555555555556,\"#d8576b\"],[0.6666666666666666,\"#ed7953\"],[0.7777777777777778,\"#fb9f3a\"],[0.8888888888888888,\"#fdca26\"],[1.0,\"#f0f921\"]],\"diverging\":[[0,\"#8e0152\"],[0.1,\"#c51b7d\"],[0.2,\"#de77ae\"],[0.3,\"#f1b6da\"],[0.4,\"#fde0ef\"],[0.5,\"#f7f7f7\"],[0.6,\"#e6f5d0\"],[0.7,\"#b8e186\"],[0.8,\"#7fbc41\"],[0.9,\"#4d9221\"],[1,\"#276419\"]]},\"xaxis\":{\"gridcolor\":\"white\",\"linecolor\":\"white\",\"ticks\":\"\",\"title\":{\"standoff\":15},\"zerolinecolor\":\"white\",\"automargin\":true,\"zerolinewidth\":2},\"yaxis\":{\"gridcolor\":\"white\",\"linecolor\":\"white\",\"ticks\":\"\",\"title\":{\"standoff\":15},\"zerolinecolor\":\"white\",\"automargin\":true,\"zerolinewidth\":2},\"scene\":{\"xaxis\":{\"backgroundcolor\":\"#E5ECF6\",\"gridcolor\":\"white\",\"linecolor\":\"white\",\"showbackground\":true,\"ticks\":\"\",\"zerolinecolor\":\"white\",\"gridwidth\":2},\"yaxis\":{\"backgroundcolor\":\"#E5ECF6\",\"gridcolor\":\"white\",\"linecolor\":\"white\",\"showbackground\":true,\"ticks\":\"\",\"zerolinecolor\":\"white\",\"gridwidth\":2},\"zaxis\":{\"backgroundcolor\":\"#E5ECF6\",\"gridcolor\":\"white\",\"linecolor\":\"white\",\"showbackground\":true,\"ticks\":\"\",\"zerolinecolor\":\"white\",\"gridwidth\":2}},\"shapedefaults\":{\"line\":{\"color\":\"#2a3f5f\"}},\"annotationdefaults\":{\"arrowcolor\":\"#2a3f5f\",\"arrowhead\":0,\"arrowwidth\":1},\"geo\":{\"bgcolor\":\"white\",\"landcolor\":\"#E5ECF6\",\"subunitcolor\":\"white\",\"showland\":true,\"showlakes\":true,\"lakecolor\":\"white\"},\"title\":{\"x\":0.05},\"mapbox\":{\"style\":\"light\"}}},\"scene\":{\"domain\":{\"x\":[0.0,1.0],\"y\":[0.0,1.0]},\"xaxis\":{\"title\":{\"text\":\"max_depth\"}},\"yaxis\":{\"title\":{\"text\":\"min_samples_split\"}},\"zaxis\":{\"title\":{\"text\":\"min_samples_leaf\"}}},\"coloraxis\":{\"colorbar\":{\"title\":{\"text\":\"mean_verification_score\"}},\"colorscale\":[[0.0,\"#440154\"],[0.1111111111111111,\"#482878\"],[0.2222222222222222,\"#3e4989\"],[0.3333333333333333,\"#31688e\"],[0.4444444444444444,\"#26828e\"],[0.5555555555555556,\"#1f9e89\"],[0.6666666666666666,\"#35b779\"],[0.7777777777777778,\"#6ece58\"],[0.8888888888888888,\"#b5de2b\"],[1.0,\"#fde725\"]]},\"legend\":{\"tracegroupgap\":0},\"title\":{\"text\":\"3D Plot of Hyperparameters vs. Performance\"}},                        {\"responsive\": true}                    ).then(function(){\n",
       "                            \n",
       "var gd = document.getElementById('4a198ae3-3d81-4d50-9827-0cbd273d5a15');\n",
       "var x = new MutationObserver(function (mutations, observer) {{\n",
       "        var display = window.getComputedStyle(gd).display;\n",
       "        if (!display || display === 'none') {{\n",
       "            console.log([gd, 'removed!']);\n",
       "            Plotly.purge(gd);\n",
       "            observer.disconnect();\n",
       "        }}\n",
       "}});\n",
       "\n",
       "// Listen for the removal of the full notebook cells\n",
       "var notebookContainer = gd.closest('#notebook-container');\n",
       "if (notebookContainer) {{\n",
       "    x.observe(notebookContainer, {childList: true});\n",
       "}}\n",
       "\n",
       "// Listen for the clearing of the current output cell\n",
       "var outputEl = gd.closest('.output');\n",
       "if (outputEl) {{\n",
       "    x.observe(outputEl, {childList: true});\n",
       "}}\n",
       "\n",
       "                        })                };                });            </script>        </div>"
      ]
     },
     "metadata": {},
     "output_type": "display_data"
    }
   ],
   "source": [
    "import plotly.express as px\n",
    "\n",
    "# Assuming `results_df` contains 'max_depth', 'min_samples_split', 'min_samples_leaf', and 'mean_verification_score'\n",
    "fig = px.scatter_3d(all_model_results_df, \n",
    "                    x='max_depth', \n",
    "                    y='min_samples_split', \n",
    "                    z='min_samples_leaf',\n",
    "                    color='mean_verification_score', \n",
    "                    color_continuous_scale='Viridis', \n",
    "                    opacity=0.7,\n",
    "                    title='3D Plot of Hyperparameters vs. Performance')  # Adjust size_max to make the dots smaller\n",
    "fig.update_traces(marker=dict(size=2))  # Further adjust marker size if needed\n",
    "fig.show()\n"
   ]
  },
  {
   "cell_type": "code",
   "execution_count": null,
   "id": "5a9e6122-670a-4dea-9382-becbea086b16",
   "metadata": {},
   "outputs": [],
   "source": [
    "import matplotlib.pyplot as plt\n",
    "\n",
    "# Assuming DecisionTreeTrainer is already defined and includes the train_decision_tree method\n",
    "\n",
    "def plot_results(trials):\n",
    "    # Extracting scores and plotting convergence\n",
    "    scores = [-trial['result']['loss'] for trial in trials.trials]  # Adjust if necessary based on how you've stored the loss\n",
    "    plt.figure(figsize=(12, 6))\n",
    "    plt.plot(scores, marker='o')\n",
    "    plt.grid(True)\n",
    "    plt.title(\"Convergence over Iterations\")\n",
    "    plt.xlabel(\"Iteration\")\n",
    "    plt.ylabel(\"Score (Negative MAE)\")\n",
    "    plt.show()\n",
    "\n",
    "plot_results(dt_trainer.trials)\n"
   ]
  },
  {
   "cell_type": "code",
   "execution_count": null,
   "id": "b54812a6-4c85-450a-b0f9-f86771007c4b",
   "metadata": {},
   "outputs": [],
   "source": []
  },
  {
   "cell_type": "code",
   "execution_count": null,
   "id": "5be64a56-e441-43ee-bf9c-4a9dca469d72",
   "metadata": {},
   "outputs": [],
   "source": []
  },
  {
   "cell_type": "code",
   "execution_count": null,
   "id": "215fcc31-8091-4d5b-b468-75f5422be9ab",
   "metadata": {},
   "outputs": [],
   "source": []
  },
  {
   "cell_type": "code",
   "execution_count": null,
   "id": "21dd0a44-8c19-4332-8f4f-4f4209bd5591",
   "metadata": {},
   "outputs": [],
   "source": []
  },
  {
   "cell_type": "code",
   "execution_count": 45,
   "id": "a879a2dd-81c5-4fc9-9a4e-4e7dbe1e6454",
   "metadata": {},
   "outputs": [
    {
     "data": {
      "image/png": "[encoded data removed]",
      "text/plain": [
       "<Figure size 1000x600 with 1 Axes>"
      ]
     },
     "metadata": {},
     "output_type": "display_data"
    }
   ],
   "source": [
    "import matplotlib.pyplot as plt\n",
    "\n",
    "# Assuming `results_df` is your DataFrame containing the tuning results\n",
    "plt.figure(figsize=(10, 6))\n",
    "plt.scatter(all_model_results_df['max_depth'], all_model_results_df['mean_verification_score'], c='blue', label='Validation Score')\n",
    "plt.xlabel('Max Depth')\n",
    "plt.ylabel('Mean Verification Score')\n",
    "plt.title('Max Depth vs. Mean Verification Score')\n",
    "plt.legend()\n",
    "plt.grid(True)\n",
    "plt.show()\n"
   ]
  },
  {
   "cell_type": "code",
   "execution_count": null,
   "id": "4ebb3684-3c2f-423c-94eb-aabbcf4ae485",
   "metadata": {},
   "outputs": [],
   "source": []
  },
  {
   "cell_type": "markdown",
   "id": "bc9626c2-e87c-4af5-84d3-816a9227edb2",
   "metadata": {},
   "source": [
    "## <font color='red'>Visualisations are work in progress, currently not functional</font>"
   ]
  },
  {
   "cell_type": "code",
   "execution_count": null,
   "id": "367d63e0-f1d2-4dad-87a8-3f3300e91220",
   "metadata": {},
   "outputs": [],
   "source": [
    "\"\"\"\n",
    "trainer.max_depth_plot(all_model_results_df, save=True, name=\"max_depth_plot\", close=True)\n",
    "trainer.mss_msl_plot(all_model_results_df, save=True, name=\"mss_msl_plot\", close=True)\n",
    "trainer.max_depth_vs_mss_plot(all_model_results_df, save=True, name=\"max_depth_vs_mss_plot\", close=True)\n",
    "trainer.max_depth_vs_msl_plot(all_model_results_df, save=True, name=\"max_depth_vs_msl_plot\", close=True)\n",
    "trainer.mss_vs_msl_plot(all_model_results_df, save=True, name=\"mss_vs_msl_plot\", close=True) \"\"\""
   ]
  },
  {
   "cell_type": "markdown",
   "id": "620167cf-4eda-4e37-aa93-ec56066dd5d1",
   "metadata": {
    "id": "620167cf-4eda-4e37-aa93-ec56066dd5d1"
   },
   "source": [
    "## <font color='green'>Independant from above, train a DT model and save the <font color='pink'>decision tree image </font></font>"
   ]
  },
  {
   "cell_type": "code",
   "execution_count": null,
   "id": "44f98308-e12f-4d34-8988-aade903fc186",
   "metadata": {
    "id": "44f98308-e12f-4d34-8988-aade903fc186",
    "jupyter": {
     "source_hidden": true
    },
    "outputId": "01820bdd-696f-4030-a55f-900d51d78ad3"
   },
   "outputs": [],
   "source": [
    "# importing the tree model from sklearn\n",
    "from sklearn import tree\n",
    "\n",
    "# initalizing the model instance\n",
    "dt_model = tree.DecisionTreeRegressor(max_depth=80, min_samples_split=5, min_samples_leaf=4)\n",
    "\n",
    "# training the model\n",
    "dt_model.fit(x_train.values, y_train.values)\n",
    "\n",
    "dt_model.get_depth()"
   ]
  },
  {
   "cell_type": "code",
   "execution_count": null,
   "id": "e2875332-bd59-4f5f-9395-9da86315370e",
   "metadata": {
    "jupyter": {
     "source_hidden": true
    }
   },
   "outputs": [],
   "source": [
    "import random\n",
    "import string\n",
    "import matplotlib.pyplot as plt\n",
    "from sklearn.tree import plot_tree\n",
    "import os\n",
    "\n",
    "# Function to generate a random alphanumeric string of length 6\n",
    "def generate_random_string(length=6):\n",
    "    return ''.join(random.choices(string.ascii_letters + string.digits, k=length))\n",
    "\n",
    "# Path variables\n",
    "base_dir = \"Figures/Tree\"\n",
    "rand_filename = generate_random_string() + \".png\"\n",
    "file_path = os.path.join(base_dir, rand_filename)\n",
    "\n",
    "# Create the directory if it doesn't exist\n",
    "os.makedirs(base_dir, exist_ok=True)\n",
    "\n",
    "# Get the maximum depth of the decision tree\n",
    "#max_depth = dt_model.get_depth()\n",
    "max_depth = 4\n",
    "\n",
    "# Plotting the tree\n",
    "plt.figure(figsize=(20, 10))\n",
    "plot_tree(dt_model, filled=True, max_depth=max_depth)  # Use the maximum depth of the model\n",
    "\n",
    "# Save the plot to the specified path with higher resolution\n",
    "plt.savefig(file_path, dpi=300)  # Increase DPI for higher resolution\n",
    "\n",
    "print(f\"Image saved to {file_path}\")\n"
   ]
  },
  {
   "cell_type": "markdown",
   "id": "40de6dd9-924f-42a2-882a-111db4b912f0",
   "metadata": {},
   "source": [
    "# <font color='green'>Stop Here - Below is for Serpent2 (ace file) creation. </font>"
   ]
  },
  {
   "cell_type": "markdown",
   "id": "e5243975-d88b-4a95-864d-5b863167eb82",
   "metadata": {
    "id": "e5243975-d88b-4a95-864d-5b863167eb82"
   },
   "source": [
    "#### U-233 Jezzebel criticality benchmark"
   ]
  },
  {
   "cell_type": "code",
   "execution_count": null,
   "id": "9a98c0c9-3667-4a5e-9ef0-851cafb6340d",
   "metadata": {
    "id": "9a98c0c9-3667-4a5e-9ef0-851cafb6340d",
    "jupyter": {
     "source_hidden": true
    }
   },
   "outputs": [],
   "source": [
    "# import the ace utilities\n",
    "import nucml.ace.data_utilities as ace_utils\n",
    "\n",
    "# Import the required functions from the module\n",
    "from nucml.ace.data_utilities import get_xs_for_mt, create_mt2_mt3_mt101, enforce_unitarity"
   ]
  },
  {
   "cell_type": "code",
   "execution_count": null,
   "id": "1f8ae2bb-3403-4554-86dd-8976d6dded4b",
   "metadata": {
    "id": "1f8ae2bb-3403-4554-86dd-8976d6dded4b",
    "jupyter": {
     "source_hidden": true
    }
   },
   "outputs": [],
   "source": [
    "# Redefine the functions with necessary corrections\n",
    "\n",
    "import os\n",
    "import math\n",
    "import pandas as pd\n",
    "\n",
    "def reduce_ace_filesize(directory, keep=\"03c\"):\n",
    "    \"\"\"\n",
    "    Utility function to reduce the size of ACE files. Useful to remove all other information\n",
    "    other than the section of interest (i.e. .03c).\n",
    "\n",
    "    Args:\n",
    "        directory (str): Path to directory where all ACE files will be searched and processed.\n",
    "        keep (str, optional): Temperature to keep. Must not include the dot. Defaults to \"03c\".\n",
    "\n",
    "    Returns:\n",
    "        None\n",
    "\n",
    "    Corrected to check line length before accessing the 10th character to avoid IndexError.\n",
    "    \"\"\"\n",
    "    all_ace_files = []\n",
    "\n",
    "    for root, _, files in os.walk(directory):\n",
    "        for file in files:\n",
    "            if file.endswith(\".ace\"):\n",
    "                all_ace_files.append(os.path.abspath(os.path.join(root, file)))\n",
    "\n",
    "    for i in all_ace_files:\n",
    "        tags = []\n",
    "        final_tags = []\n",
    "        new_file_lines = []\n",
    "\n",
    "        with open(i) as infile:\n",
    "            for line in infile:\n",
    "                # Check if the line has at least 10 characters to avoid IndexError\n",
    "                if len(line) > 9 and line[9] == \"c\":\n",
    "                    tags.append(line[:10])\n",
    "\n",
    "        for t in tags:\n",
    "            if t.endswith(keep):\n",
    "                continue\n",
    "            else:\n",
    "                final_tags.append(t)\n",
    "\n",
    "        with open(i, 'r') as infile:\n",
    "            flag = False\n",
    "            for line in infile:\n",
    "                if line[7:10] == keep:\n",
    "                    flag = True\n",
    "                if flag:\n",
    "                    new_file_lines.append(line)\n",
    "                if line[:10] in final_tags:\n",
    "                    flag = False\n",
    "\n",
    "        with open(i, \"w\") as outfile:\n",
    "            outfile.writelines(new_file_lines)\n",
    "\n",
    "        ace_utils.convert_dos_to_unix(i)\n",
    "    return None\n",
    "\n",
    "\n",
    "def parsing_datatypes(x):\n",
    "    \"\"\"\n",
    "    Utility function to correctly format numbers before writing them to new .ACE files.\n",
    "\n",
    "    Parameters:\n",
    "    x: The value to be formatted.\n",
    "\n",
    "    Returns:\n",
    "        float: Formatted value.\n",
    "\n",
    "    Corrected to handle infinity values properly.\n",
    "    \"\"\"\n",
    "    if math.isnan(x):\n",
    "        return \"\"  # Return an empty string for NaN values\n",
    "    elif math.isinf(x):\n",
    "        if x > 0:\n",
    "            return \"{:20.12E}\".format(1e+99)  # Use a large number for positive infinity\n",
    "        else:\n",
    "            return \"{:20.12E}\".format(-1e+99)  # Use a large negative number for negative infinity\n",
    "    elif x - int(x) == 0:\n",
    "        return \"{:20}\".format(int(x))  # Format integers\n",
    "    else:\n",
    "        return \"{:20.12E}\".format(x)  # Format floats\n",
    "\n",
    "\n",
    "def get_final_ml_ace_df(energies, mt_array, mt_xs_pointers_array, pointers, jxs_df, xss, ml_df, ml_list=[\"MT_1\", \"MT_2\", \"MT_3\", \"MT_18\", \"MT_101\", \"MT_102\"]):\n",
    "    \"\"\"Given a set of ML generated XS (adjusted), this function allows to fill in other reaction channels not included\n",
    "    by the ML predictions. This is useful since for some calculations some MT reactions are not required but are still present\n",
    "    in the ACE files. This allows to preserve the ACE file values and structure.\n",
    "\n",
    "    For MT3 the ML generated cross sections are adjusted so that conservation rules are not broken. Same for MT101.\n",
    "    All values will be at the energy grid specified by the energies array.\n",
    "\n",
    "    Note: MT2 is not calculated here.\n",
    "\n",
    "    TODO: DEAL WITH MT3 BETTER IN CASE IT IS GENERATED BY ML, WHAT ELSE TO ADJUST\n",
    "\n",
    "    Returns:\n",
    "        DataFrame: DataFrame containing the resulting cross sections from both ML and ACE.\n",
    "    \"\"\"\n",
    "\n",
    "    \"\"\"\n",
    "    Generate the final ACE DataFrame with machine learning cross-sections.\n",
    "\n",
    "    Parameters:\n",
    "    energies (array): Array of energy values.\n",
    "    mt_array (array): Array of MT values.\n",
    "    mt_xs_pointers_array (array): Pointers to the XS values.\n",
    "    pointers (dict): Dictionary of pointers.\n",
    "    jxs_df (DataFrame): DataFrame of JXS values.\n",
    "    xss (array): Array of XSS values.\n",
    "    ml_df (DataFrame): DataFrame of machine learning predictions.\n",
    "    ml_list (list): List of MT columns to include.\n",
    "\n",
    "    Corrected to check if each MT exists in ml_df before accessing it.\n",
    "    \"\"\"\n",
    "    Energy_Grid = pd.DataFrame({\"Energy\": energies})\n",
    "    Energy_Grid = Energy_Grid.set_index(\"Energy\")\n",
    "\n",
    "    for i in mt_array:\n",
    "        mt_info = get_xs_for_mt(i, mt_array, mt_xs_pointers_array, jxs_df, xss, pointers)\n",
    "        to_add = pd.DataFrame({\"Energy\": mt_info[\"energy\"], \"MT_\" + str(int(i)): mt_info[\"xs\"]})\n",
    "        to_add = to_add.set_index(\"Energy\")\n",
    "        Energy_Grid = pd.merge(Energy_Grid, to_add, left_index=True, right_index=True, how=\"outer\")\n",
    "    Energy_Grid = Energy_Grid.fillna(value=0)\n",
    "\n",
    "    for i in ml_list:\n",
    "        if i in ml_df.columns:\n",
    "            Energy_Grid[i] = ml_df[i].values\n",
    "        else:\n",
    "            print(f\"Warning: {i} not found in ml_df.columns\")\n",
    "\n",
    "    Energy_Grid = create_mt2_mt3_mt101(Energy_Grid, mt_array)\n",
    "    Energy_Grid = enforce_unitarity(Energy_Grid)\n",
    "    return Energy_Grid\n",
    "\n",
    "# Override the functions in the module\n",
    "ace_utils.reduce_ace_filesize = reduce_ace_filesize\n",
    "ace_utils.parsing_datatypes = parsing_datatypes\n",
    "ace_utils.get_final_ml_ace_df = get_final_ml_ace_df\n",
    "\n",
    "\n",
    "\n",
    "\n",
    "def get_nxs_jxs_xss(isotope, temp=\"03c\", custom_path=None, reduced=False):\n",
    "    \"\"\"\n",
    "    Retrieves the NSX, JXS, and XSS tables for a given isotope at a given temperature.\n",
    "    The JSX DataFrame indicates the indices to the XSS where different pieces of data begin.\n",
    "    The XSS table contains the actual data needed by many functions of the ACE utilities.\n",
    "\n",
    "    Args:\n",
    "        isotope (str): Isotope in ZZAAA format.\n",
    "        temp (str, optional): Temperature in ace format (i.e. 03c means 300C). Defaults to \"03c\".\n",
    "        custom_path (str, optional): File-path to a new ACE file not stored in the configured ACE directory. Defaults to None.\n",
    "\n",
    "    Returns:\n",
    "        (tuple): tuple containing:\n",
    "            nxs (DataFrame)\n",
    "            jxs (DataFrame)\n",
    "            xss (np.array)\n",
    "    \"\"\"\n",
    "    path, to_skip, lines = ace_utils.get_to_skip_lines(isotope, temp=temp)\n",
    "    if (path != None) and (custom_path != None):\n",
    "        if reduced:\n",
    "            to_skip = 0\n",
    "\n",
    "        nxs = pd.read_csv(custom_path, sep=r'\\s+', skiprows=to_skip+6, nrows=2, header=None)\n",
    "        jxs = pd.read_csv(custom_path, sep=r'\\s+', skiprows=to_skip+8, nrows=4, header=None)\n",
    "        xss = pd.read_csv(custom_path, sep=r'\\s+', skiprows=to_skip+12, nrows=lines, header=None).values.flatten()\n",
    "        return nxs, jxs, xss\n",
    "    elif path != None:\n",
    "        nxs = pd.read_csv(path, sep=r'\\s+', skiprows=to_skip+6, nrows=2, header=None)\n",
    "        jxs = pd.read_csv(path, sep=r'\\s+', skiprows=to_skip+8, nrows=4, header=None)\n",
    "        xss = pd.read_csv(path, sep=r'\\s+', skiprows=to_skip+12, nrows=lines, header=None).values.flatten()\n",
    "        return nxs, jxs, xss\n",
    "\n",
    "ace_utils.get_nxs_jxs_xss = get_nxs_jxs_xss"
   ]
  },
  {
   "cell_type": "code",
   "execution_count": null,
   "id": "b923f229-74ae-4209-bbef-21ec4f21836c",
   "metadata": {
    "id": "b923f229-74ae-4209-bbef-21ec4f21836c",
    "jupyter": {
     "source_hidden": true
    }
   },
   "outputs": [],
   "source": [
    "# seems as though we no longer require this (small fix for small data sets)\n",
    "\n",
    "def enforce_unitarity(ml_ace_df):\n",
    "    \"\"\"Creates MT2 XS and adjusts MT1 accordingly.\n",
    "\n",
    "    Calculates MT2 by subtracting MT3 from MT1. If MT2 is negative:\n",
    "    - Replace negatives with NaN\n",
    "    - Interpolates from closest values\n",
    "    - Adds back amount to MT1 to conserve XS.\n",
    "\n",
    "    Args:\n",
    "        ml_ace_df (DataFrame): DataFrame containing the original MT1, MT2, and MT3.\n",
    "\n",
    "    Returns:\n",
    "        DataFrame: returns an adjusted dataframe.\n",
    "    \"\"\"\n",
    "    # Ensure the necessary columns exist\n",
    "    if 'MT_1' in ml_ace_df.columns and 'MT_3' in ml_ace_df.columns:\n",
    "        # Print the data types before conversion\n",
    "        print(\"Data types in MT_1 before conversion:\")\n",
    "        print(ml_ace_df['MT_1'].apply(type).value_counts())\n",
    "\n",
    "        print(\"Data types in MT_3 before conversion:\")\n",
    "        print(ml_ace_df['MT_3'].apply(type).value_counts())\n",
    "\n",
    "        # Convert columns to numeric, coercing errors to NaN\n",
    "        ml_ace_df['MT_1'] = pd.to_numeric(ml_ace_df['MT_1'], errors='coerce')\n",
    "        ml_ace_df['MT_3'] = pd.to_numeric(ml_ace_df['MT_3'], errors='coerce')\n",
    "\n",
    "        adjusting_mt1 = pd.DataFrame({\"MT_1\": ml_ace_df.MT_1.values, \"MT_3\": ml_ace_df.MT_3.values})\n",
    "        adjusting_mt1[\"MT_2\"] = adjusting_mt1.MT_1.values - adjusting_mt1.MT_3.values\n",
    "\n",
    "        # Count invalid values (NaN or infinity) in the result\n",
    "        invalid_count = np.sum(np.isnan(adjusting_mt1[\"MT_2\"]) | np.isinf(adjusting_mt1[\"MT_2\"]))\n",
    "        print(f\"Number of invalid rows in MT_2: {invalid_count}\")\n",
    "\n",
    "        # Count NaNs and infinities separately\n",
    "        nan_count = np.sum(np.isnan(adjusting_mt1[\"MT_2\"]))\n",
    "        inf_count = np.sum(np.isinf(adjusting_mt1[\"MT_2\"]))\n",
    "        print(f\"Number of NaNs in MT_2: {nan_count}\")\n",
    "        print(f\"Number of infinities in MT_2: {inf_count}\")\n",
    "\n",
    "        # Replace negatives with NaN, interpolate and adjust MT_1 accordingly\n",
    "        adjusting_mt1[\"MT_2\"] = adjusting_mt1[\"MT_2\"].apply(lambda x: x if x > 0 else -1)\n",
    "        adjusting_mt1 = adjusting_mt1.replace(to_replace=-1, value=np.nan)\n",
    "        adjusting_mt1 = adjusting_mt1.interpolate()\n",
    "        adjusting_mt1[\"MT_1_int\"] = adjusting_mt1[\"MT_2\"] + adjusting_mt1[\"MT_3\"]\n",
    "        adjusting_mt1[\"MT_1_to_add\"] = adjusting_mt1[\"MT_1_int\"] - adjusting_mt1[\"MT_1\"]\n",
    "        adjusting_mt1[\"MT_1_Final\"] = adjusting_mt1[\"MT_1\"] + adjusting_mt1[\"MT_1_to_add\"]\n",
    "\n",
    "        ml_ace_df[\"MT_1\"] = adjusting_mt1[\"MT_1_Final\"].values\n",
    "        ml_ace_df[\"MT_2\"] = adjusting_mt1[\"MT_2\"].values\n",
    "\n",
    "        # Print the data types after conversion\n",
    "        print(\"Data types in MT_1 after conversion:\")\n",
    "        print(ml_ace_df['MT_1'].apply(type).value_counts())\n",
    "\n",
    "        print(\"Data types in MT_3 after conversion:\")\n",
    "        print(ml_ace_df['MT_3'].apply(type).value_counts())\n",
    "\n",
    "        return ml_ace_df\n",
    "    else:\n",
    "        print(\"Required columns MT_1 or MT_3 are missing in the DataFrame.\")\n",
    "        return ml_ace_df\n"
   ]
  },
  {
   "cell_type": "code",
   "execution_count": null,
   "id": "4ac6ec03-b677-450f-8b3a-8ac0d62d8957",
   "metadata": {
    "id": "4ac6ec03-b677-450f-8b3a-8ac0d62d8957",
    "jupyter": {
     "source_hidden": true
    },
    "outputId": "27e097a4-e411-499b-e422-abde217bba0c"
   },
   "outputs": [],
   "source": [
    "# 1) specify directory where all benchmark files will be created\n",
    "dt_ml_ace_dir = \"DT_B0/\"\n",
    "\n",
    "#print(working_directory)\n",
    "# Modify the data_utilities module to use the correct path\n",
    "template_dir = os.path.join(working_directory, 'ML_Nuclear_Data/Benchmarks/inputs/templates')\n",
    "#print(f\"Template directory: {template_dir}\")\n",
    "\n",
    "# 6) Define the ACE directory path\n",
    "#ace_dir = os.path.join(working_directory, 'ML_Nuclear_Data/acedata')\n",
    "#print(ace_dir)\n",
    "\n",
    "# 2) Use the dt_results dataframe to generate benchmark files\n",
    "ace_utils.generate_bench_ml_xs(data, dt_results, \"U233_MET_FAST_001\", to_scale, dt_ml_ace_dir, template_dir=template_dir)"
   ]
  },
  {
   "cell_type": "code",
   "execution_count": null,
   "id": "e549f152-de8b-446d-a1b9-1680cec7927b",
   "metadata": {
    "id": "e549f152-de8b-446d-a1b9-1680cec7927b",
    "jupyter": {
     "source_hidden": true
    }
   },
   "outputs": [],
   "source": [
    "# Generate a bash script that will allow us to run all benchmark input files\n",
    "script_name = \"serpent_bash_script\"\n",
    "\n",
    "ace_utils.generate_serpent_bash(dt_ml_ace_dir, script_name)"
   ]
  },
  {
   "cell_type": "code",
   "execution_count": null,
   "id": "2e094c5b-6ab8-4a0b-a71e-0a9b0521a867",
   "metadata": {},
   "outputs": [],
   "source": []
  },
  {
   "cell_type": "markdown",
   "id": "b22506bf-0469-4d93-982c-2f1d465219ef",
   "metadata": {},
   "source": [
    "predicting_nuclear_xs_v2 - ARGS - model type - normalization - FIXED"
   ]
  },
  {
   "cell_type": "markdown",
   "id": "047125f6-503c-455b-a3e8-d42b6b1c8419",
   "metadata": {},
   "source": [
    "https://pypi.org/project/transparency/"
   ]
  },
  {
   "cell_type": "markdown",
   "id": "1af5a2da-98bd-430f-9316-f60282ed0770",
   "metadata": {},
   "source": [
    "## Boosted Decision Tree class"
   ]
  },
  {
   "cell_type": "code",
   "execution_count": 5,
   "id": "ea8304cb-188f-404e-8b4a-e4bdf693db96",
   "metadata": {},
   "outputs": [],
   "source": [
    "import os\n",
    "import time\n",
    "import pandas as pd\n",
    "import matplotlib.pyplot as plt\n",
    "from sklearn.experimental import enable_halving_search_cv\n",
    "from sklearn.model_selection import GridSearchCV, HalvingGridSearchCV\n",
    "from sklearn.ensemble import GradientBoostingRegressor\n",
    "from joblib import dump\n",
    "from mpl_toolkits.mplot3d import Axes3D\n",
    "from matplotlib import cm\n",
    "\n",
    "class BoostedDecisionTreeTrainer:\n",
    "    def __init__(self, x_train, y_train, x_test, y_test, scaler=None):\n",
    "        self.x_train = x_train\n",
    "        self.y_train = y_train\n",
    "        self.x_test = x_test\n",
    "        self.y_test = y_test\n",
    "        self.scaler = scaler\n",
    "        self.best_model = None\n",
    "\n",
    "    def create_param_grid(self, min_depth, max_depth, depth_step, min_mss, max_mss, mss_step, min_msl, max_msl, msl_step, min_lr, max_lr, lr_step):\n",
    "        param_grid = {\n",
    "            'max_depth': range(min_depth, max_depth + 1, depth_step),\n",
    "            'min_samples_split': range(min_mss, max_mss + 1, mss_step),\n",
    "            'min_samples_leaf': range(min_msl, max_msl + 1, msl_step),\n",
    "            'learning_rate': [min_lr + i * lr_step for i in range(int((max_lr - min_lr) / lr_step) + 1)]\n",
    "        }\n",
    "        return param_grid\n",
    "\n",
    "    def train_boosted_decision_tree(self, min_depth, max_depth, depth_step, min_mss, max_mss, mss_step, min_msl, max_msl, msl_step, min_lr, max_lr, lr_step, cv, n_jobs, verbose, scoring):\n",
    "        param_grid = self.create_param_grid(min_depth, max_depth, depth_step, min_mss, max_mss, mss_step, min_msl, max_msl, msl_step, min_lr, max_lr, lr_step)\n",
    "        \n",
    "        grid_search = HalvingGridSearchCV(\n",
    "            estimator=GradientBoostingRegressor(),\n",
    "            param_grid=param_grid,\n",
    "            cv=cv,\n",
    "            n_jobs=n_jobs,\n",
    "            verbose=verbose,\n",
    "            scoring=scoring,\n",
    "            return_train_score=True\n",
    "        )\n",
    "\n",
    "        start_time = time.time()\n",
    "        grid_search.fit(self.x_train, self.y_train)\n",
    "        end_time = time.time()\n",
    "        training_time = end_time - start_time\n",
    "\n",
    "        self.best_model = grid_search.best_estimator_\n",
    "        cv_results = pd.DataFrame(grid_search.cv_results_)\n",
    "\n",
    "        all_model_results = []\n",
    "        for i, params in enumerate(cv_results['params']):\n",
    "            row = {\n",
    "                'Parameters': params,\n",
    "                'Train MAE': -cv_results['mean_train_score'][i],\n",
    "                'CV MAE': -cv_results['mean_test_score'][i],  # Renamed from 'Test MAE' to 'CV MAE'\n",
    "                'Training Time (s)': training_time,\n",
    "                'mean_fit_time': cv_results['mean_fit_time'][i],\n",
    "                'std_fit_time': cv_results['std_fit_time'][i],\n",
    "                'mean_score_time': cv_results['mean_score_time'][i],\n",
    "                'std_score_time': cv_results['std_score_time'][i],\n",
    "                'split0_cv_score': -cv_results['split0_test_score'][i],\n",
    "                'split1_cv_score': -cv_results['split1_test_score'][i],\n",
    "                'split2_cv_score': -cv_results['split2_test_score'][i] if 'split2_test_score' in cv_results else None,\n",
    "                'split3_cv_score': -cv_results['split3_test_score'][i] if 'split3_test_score' in cv_results else None,\n",
    "                'split4_cv_score': -cv_results['split4_test_score'][i] if 'split4_test_score' in cv_results else None,\n",
    "                'mean_cv_score': -cv_results['mean_test_score'][i],  # Renamed from 'mean_test_score' to 'mean_cv_score'\n",
    "                'std_cv_score': cv_results['std_test_score'][i],  # Renamed from 'std_test_score' to 'std_cv_score'\n",
    "                'rank_cv_score': cv_results['rank_test_score'][i],  # Renamed from 'rank_test_score' to 'rank_cv_score'\n",
    "                'split0_train_score': -cv_results['split0_train_score'][i],\n",
    "                'split1_train_score': -cv_results['split1_train_score'][i],\n",
    "                'split2_train_score': -cv_results['split2_train_score'][i] if 'split2_train_score' in cv_results else None,\n",
    "                'split3_train_score': -cv_results['split3_train_score'][i] if 'split3_train_score' in cv_results else None,\n",
    "                'split4_train_score': -cv_results['split4_train_score'][i] if 'split4_train_score' in cv_results else None,\n",
    "                'mean_train_score': -cv_results['mean_train_score'][i],\n",
    "                'std_train_score': cv_results['std_train_score'][i],\n",
    "            }\n",
    "            all_model_results.append(row)\n",
    "\n",
    "        all_model_results_df = pd.DataFrame(all_model_results)\n",
    "        \n",
    "        # Evaluate the best model on the separate test set using MAE\n",
    "        test_predictions = self.best_model.predict(self.x_test)\n",
    "        test_score = mean_absolute_error(self.y_test, test_predictions)\n",
    "        print(\"Final Test set MAE: \", test_score)\n",
    "\n",
    "        return grid_search.best_params_, cv_results, all_model_results_df, test_score\n",
    "\n",
    "    def save_model_and_results(self, save_dir, model_name=\"best_gbt_model.joblib\"):\n",
    "        if not os.path.exists(save_dir):\n",
    "            os.makedirs(save_dir)\n",
    "\n",
    "        model_saving_path = os.path.join(save_dir, model_name)\n",
    "        scaler_saving_path = os.path.join(save_dir, 'scaler.pkl') if self.scaler else None\n",
    "\n",
    "        dump(self.best_model, model_saving_path)\n",
    "        if self.scaler:\n",
    "            dump(self.scaler, open(scaler_saving_path, 'wb'))\n",
    "\n",
    "        return model_saving_path, scaler_saving_path\n",
    "\n",
    "    def save_results(self, results_dir, model_saving_path, scaler_saving_path, all_model_results_df, test_score):\n",
    "        if not os.path.exists(results_dir):\n",
    "            os.makedirs(results_dir)\n",
    "\n",
    "        best_gbt_results = {\n",
    "            \"model_path\": model_saving_path,\n",
    "            \"scaler_path\": scaler_saving_path if scaler_saving_path else \"None\",\n",
    "            \"Parameters\": self.best_model.get_params(),\n",
    "            \"mean_train_score\": -all_model_results_df[\"mean_train_score\"].min(),\n",
    "            \"mean_cv_score\": -all_model_results_df[\"mean_cv_score\"].min(),  # Renamed from 'mean_test_score' to 'mean_cv_score'\n",
    "            \"Test set score\": test_score,  # Added real test score\n",
    "            \"Training Time (s)\": all_model_results_df[\"Training Time (s)\"].iloc[0]\n",
    "        }\n",
    "\n",
    "        best_gbt_results_df = pd.DataFrame([best_gbt_results])\n",
    "        best_gbt_results_filepath = os.path.join(results_dir, 'best_bgt_results.csv')\n",
    "        best_gbt_results_df.to_csv(best_gbt_results_filepath, index=False)\n",
    "\n",
    "        all_gbt_results_filepath = os.path.join(results_dir, 'all_bgt_results.csv')\n",
    "        all_model_results_df.to_csv(all_gbt_results_filepath, index=False)\n",
    "\n",
    "        return best_gbt_results_filepath, all_gbt_results_filepath\n"
   ]
  },
  {
   "cell_type": "markdown",
   "id": "c564cafc-d254-4833-8c39-279c6821bd5e",
   "metadata": {},
   "source": [
    "#### Train a Boosted Decision Tree (<font color='pink'>enter custom parameter space</font>)"
   ]
  },
  {
   "cell_type": "code",
   "execution_count": null,
   "id": "f7675f2b-924d-4e62-b0a3-b044f610f867",
   "metadata": {},
   "outputs": [],
   "source": [
    "# Example usage:\n",
    "trainer = BoostedDecisionTreeTrainer(x_train.values, y_train.values, x_test.values, y_test.values, scaler=None)\n",
    "best_params, cv_results, all_model_results_df, test_score = trainer.train_boosted_decision_tree(\n",
    "    min_depth=30, max_depth=30, depth_step=1,\n",
    "    min_mss=8, max_mss=8, mss_step=1,\n",
    "    min_msl=10, max_msl=10, msl_step=1,\n",
    "    min_lr=0.05, max_lr=0.05, lr_step=0.01,\n",
    "    cv=2, n_jobs=-1, verbose=2, scoring='neg_mean_absolute_error'\n",
    ")\n",
    "\n",
    "# Create a string for model name based on data parameters\n",
    "model_name_suffix = f\"mode={mode}_log={log}_lowen={low_en}_maxen={max_en}_num={num}_basic={basic}_filters={filters}_normalize={normalize}\"\n",
    "model_name_suffix = model_name_suffix.replace(\"=\", \"-\").replace(\".\", \"p\")\n",
    "model_name = f\"best_bdt_model_{model_name_suffix}\" \n",
    "\n",
    "# save the model\n",
    "model_saving_path, scaler_saving_path = dt_trainer.save_model_and_results('models/save', model_string=model_name)\n",
    "results_filepath, all_model_results_filepath = dt_trainer.save_results('models/results', model_saving_path, scaler_saving_path, all_model_results_df, test_score)\n",
    "\n",
    "print(f\"Model saved to: {model_saving_path}\")\n",
    "\n",
    "\"\"\"\n",
    "trainer.max_depth_plot(all_model_results_df, save=True, name=\"max_depth_plot\", close=True)\n",
    "trainer.mss_msl_plot(all_model_results_df, save=True, name=\"mss_msl_plot\", close=True)\n",
    "trainer.max_depth_vs_mss_plot(all_model_results_df, save=True, name=\"max_depth_vs_mss_plot\", close=True)\n",
    "trainer.max_depth_vs_msl_plot(all_model_results_df, save=True, name=\"max_depth_vs_msl_plot\", close=True)\n",
    "trainer.mss_vs_msl_plot(all_model_results_df, save=True, name=\"mss_vs_msl_plot\", close=True) \n",
    "\"\"\"\n"
   ]
  },
  {
   "cell_type": "raw",
   "id": "6187f71b-58bf-46d7-a126-b75999595525",
   "metadata": {},
   "source": [
    "#output of a test trial: THIS IS A TEXT CELL\n",
    "\n",
    "trainer = BoostedDecisionTreeTrainer(x_train.values, y_train.values, x_test.values, y_test.values, scaler=None)\n",
    "best_params, cv_results, all_model_results_df, test_score = trainer.train_boosted_decision_tree(\n",
    "    min_depth=10, max_depth=100, depth_step=10,\n",
    "    min_mss=2, max_mss=16, mss_step=2,\n",
    "    min_msl=1, max_msl=10, msl_step=1,\n",
    "    min_lr=0.01, max_lr=0.1, lr_step=0.01,\n",
    "    cv=2, n_jobs=-1, verbose=2, scoring='neg_mean_absolute_error'\n",
    ")\n",
    "\n",
    "Output:\n",
    "GradientBoostingRegressor(learning_rate=0.05, max_depth=30, min_samples_leaf=10, min_samples_split=7)"
   ]
  },
  {
   "cell_type": "markdown",
   "id": "cf93c192-cb65-4655-ab2e-886b09018ead",
   "metadata": {},
   "source": [
    "#### XGBOOST (NVIDIA)"
   ]
  },
  {
   "cell_type": "code",
   "execution_count": null,
   "id": "d3672469-bb59-4873-a0bb-05a31eb61920",
   "metadata": {},
   "outputs": [],
   "source": [
    "import xgboost as xgb\n",
    "from sklearn.metrics import mean_absolute_error\n",
    "\n",
    "# Correctly setting the parameters\n",
    "params = {\n",
    "    'max_depth': 10,\n",
    "    'min_child_weight': 1,\n",
    "    'learning_rate': 0.01,\n",
    "    'subsample': 0.8,\n",
    "    'colsample_bytree': 0.8,\n",
    "    'tree_method': 'hist',  # Use 'hist' for histogram-based method\n",
    "    'device': 'cuda',  # Explicitly setting device to 'cuda' for GPU\n",
    "}\n",
    "\n",
    "# Creating the DMatrix data format for XGBoost which is optimized for both memory efficiency and training speed\n",
    "dtrain = xgb.DMatrix(data=x_train, label=y_train)\n",
    "dtest = xgb.DMatrix(data=x_test, label=y_test)\n",
    "\n",
    "# Initialize the XGBRegressor with the updated parameters\n",
    "model = xgb.XGBRegressor(**params)\n",
    "\n",
    "# Fitting the model\n",
    "model.fit(x_train, y_train, eval_set=[(x_test, y_test)], eval_metric='mae', early_stopping_rounds=10)\n",
    "\n",
    "# Predict and evaluate\n",
    "predictions = model.predict(x_test)\n",
    "mae = mean_absolute_error(y_test, predictions)\n",
    "print(f\"Mean Absolute Error: {mae}\")\n",
    "\n",
    "        return cv_results, mae\n",
    "\n",
    "    def save_model(self, filename):\n",
    "        \"\"\" Saves the best model to a file. \"\"\"\n",
    "        self.best_model.save_model(filename)\n",
    "        print(f\"Model saved to {filename}\")\n",
    "\n",
    "# Example usage:\n",
    "trainer = BoostedDecisionTreeTrainer(x_train, y_train, x_test, y_test)\n",
    "params = {\n",
    "    'max_depth': 10,\n",
    "    'min_child_weight': 1,\n",
    "    'learning_rate': 0.01,\n",
    "    'subsample': 0.8,\n",
    "    'colsample_bytree': 0.8,\n",
    "    'tree_method': 'hist',  # Updated to 'hist'\n",
    "    'device': 'cuda'  # Specifying to use GPU\n",
    "}\n",
    "\n",
    "trainer = BoostedDecisionTreeTrainer(x_train, y_train, x_test, y_test)\n",
    "cv_results, test_mae = trainer.train_boosted_decision_tree(params, num_boost_round=1000, nfold=3, early_stopping_rounds=50)\n",
    "trainer.save_model('best_xgbt_model.json')\n"
   ]
  },
  {
   "cell_type": "code",
   "execution_count": 1,
   "id": "07f0f813-bccc-4397-b1a8-f38ba778adbf",
   "metadata": {},
   "outputs": [
    {
     "ename": "NameError",
     "evalue": "name 'data' is not defined",
     "output_type": "error",
     "traceback": [
      "\u001b[1;31m---------------------------------------------------------------------------\u001b[0m",
      "\u001b[1;31mNameError\u001b[0m                                 Traceback (most recent call last)",
      "Cell \u001b[1;32mIn[1], line 1\u001b[0m\n\u001b[1;32m----> 1\u001b[0m \u001b[43mdata\u001b[49m\u001b[38;5;241m.\u001b[39mhead()\n",
      "\u001b[1;31mNameError\u001b[0m: name 'data' is not defined"
     ]
    }
   ],
   "source": [
    "data.head()"
   ]
  },
  {
   "cell_type": "code",
   "execution_count": null,
   "id": "01f5ba29-57d8-495b-b969-e3ceb14b60df",
   "metadata": {},
   "outputs": [],
   "source": []
  }
 ],
 "metadata": {
  "colab": {
   "provenance": []
  },
  "kernelspec": {
   "display_name": "Python 3 (ipykernel)",
   "language": "python",
   "name": "python3"
  },
  "language_info": {
   "codemirror_mode": {
    "name": "ipython",
    "version": 3
   },
   "file_extension": ".py",
   "mimetype": "text/x-python",
   "name": "python",
   "nbconvert_exporter": "python",
   "pygments_lexer": "ipython3",
   "version": "3.10.11"
  }
 },
 "nbformat": 4,
 "nbformat_minor": 5
}
