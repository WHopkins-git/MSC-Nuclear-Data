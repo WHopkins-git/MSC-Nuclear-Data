{
 "cells": [
  {
   "cell_type": "markdown",
   "id": "4b056c56-e21c-4710-8351-9c5198c9b2d1",
   "metadata": {},
   "source": [
    "## MSC Project: Integrating machine learning techniques into the evaluation of nuclear data."
   ]
  },
  {
   "cell_type": "markdown",
   "id": "f17e6423-ddda-4e89-a267-180eef113b07",
   "metadata": {},
   "source": [
    "### Project Log"
   ]
  },
  {
   "cell_type": "markdown",
   "id": "c2c0858b-7554-4bed-a94c-c8e4d28a455d",
   "metadata": {},
   "source": [
    "### Week 1 (27th May – 2nd June)"
   ]
  },
  {
   "cell_type": "markdown",
   "id": "42e73a27-977b-479c-9d20-ec405580e257",
   "metadata": {},
   "source": [
    "#### Weekly meeting\n",
    "This week marked the commencement of the project, beginning with an introductory meeting to outline the project's scope and establish a timetable for regular updates and discussions with the supervisor."
   ]
  },
  {
   "cell_type": "markdown",
   "id": "24791ac4-1205-4352-bb71-56cb26573d0d",
   "metadata": {},
   "source": [
    "#### Set tasks: \n",
    "- Post key dates to MS Teams group\n",
    "- Setup public Github and integrate with Jupyter Notebook\n",
    "- Complete nuclear data visualisation and implementation in python"
   ]
  },
  {
   "cell_type": "markdown",
   "id": "efc171aa-b2a9-420e-a2b5-2cf6834e4fd9",
   "metadata": {},
   "source": [
    "#### Completed tasks: \n",
    "- Conducted a review of literature on neutron-induced cross sections to gain a deeper understanding of the current methodologies in nuclear data evaluation.\n",
    "- Started examining how machine learning could augment the process of nuclear data evaluation.\n",
    "- Retrieved neutron capture data for U-233 from the National Nuclear Data Center using their online interface. Successfully replicated the data retrieval process programmatically using Python.\n",
    "- Established a GitHub repository to facilitate version control and access to Jupyter Notebook files for supervisory review and collaboration\n",
    "- Utilized both the online interface and Python for data visualization of specified nuclear data.\n",
    "- Advanced the Python scripts by generalizing them into reusable methods to be available for future work.\n",
    "- Initiated the creation of a detailed project log document. This log is hosted on a publicly accessible GitHub repository, ensuring transparency, supervisory monitoring and availability for external stakeholders.\n",
    "- Began literature assessment of possible areas we could take the project beyond the initial paper replication."
   ]
  },
  {
   "cell_type": "markdown",
   "id": "4d8c18a7-7e6b-4aa0-8999-905081ccd231",
   "metadata": {},
   "source": [
    "### Week 2 (3rd June – 9th June)"
   ]
  },
  {
   "cell_type": "markdown",
   "id": "6b600b92-7af9-479c-82d5-4fe5559daa98",
   "metadata": {},
   "source": [
    "#### Weekly meeting:\n",
    "- Presented previous week's work and gained valuable feedback.\n",
    "- Agreed on future meeting dates: 4pm Friday 14th June, then 2pm on Fridays beyond that.\n",
    "- Discussed questions relating to the De Saint Jean paper, around nuclear data."
   ]
  },
  {
   "cell_type": "markdown",
   "id": "db195c2e-a375-4f98-adca-d69bf395f20f",
   "metadata": {},
   "source": [
    "#### Set tasks:\n",
    "- Literature review answering the question 'What is nuclear data used for?'\n",
    "- Upgrade python code to pull data directly from EXFOR, rather than manual file download.\n",
    "- Implement NucML library and generate custom CS visualisations.\n",
    "- Detailed review of Vicente-Valdez paper, start to map the steps required for replication."
   ]
  },
  {
   "cell_type": "markdown",
   "id": "d200fbb6-954f-4cef-92f7-8ec81ff691ed",
   "metadata": {},
   "source": [
    "#### Completed tasks: \n",
    "- Modified python code to pull data from URL's rather than CSV's."
   ]
  },
  {
   "cell_type": "code",
   "execution_count": null,
   "id": "566ad5a6-9b9f-4c56-bcb4-2ce1a0419de9",
   "metadata": {},
   "outputs": [],
   "source": []
  }
 ],
 "metadata": {
  "kernelspec": {
   "display_name": "Python 3 (ipykernel)",
   "language": "python",
   "name": "python3"
  },
  "language_info": {
   "codemirror_mode": {
    "name": "ipython",
    "version": 3
   },
   "file_extension": ".py",
   "mimetype": "text/x-python",
   "name": "python",
   "nbconvert_exporter": "python",
   "pygments_lexer": "ipython3",
   "version": "3.12.1"
  }
 },
 "nbformat": 4,
 "nbformat_minor": 5
}
