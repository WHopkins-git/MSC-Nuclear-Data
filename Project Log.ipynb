{
 "cells": [
  {
   "cell_type": "markdown",
   "id": "4b056c56-e21c-4710-8351-9c5198c9b2d1",
   "metadata": {},
   "source": [
    "## MSC Project: Integrating machine learning techniques into the evaluation of nuclear data."
   ]
  },
  {
   "cell_type": "markdown",
   "id": "f17e6423-ddda-4e89-a267-180eef113b07",
   "metadata": {},
   "source": [
    "### Project Log"
   ]
  },
  {
   "cell_type": "markdown",
   "id": "c2c0858b-7554-4bed-a94c-c8e4d28a455d",
   "metadata": {},
   "source": [
    "## Week 1 (27th May – 2nd June)"
   ]
  },
  {
   "cell_type": "markdown",
   "id": "24791ac4-1205-4352-bb71-56cb26573d0d",
   "metadata": {},
   "source": [
    "#### Set tasks: \n",
    "- Post key dates to MS Teams group\n",
    "- Setup public Github and integrate with Jupyter Notebook\n",
    "- Complete nuclear data visualisation and implementation in python"
   ]
  },
  {
   "cell_type": "markdown",
   "id": "efc171aa-b2a9-420e-a2b5-2cf6834e4fd9",
   "metadata": {},
   "source": [
    "#### Completed tasks: \n",
    "- Conducted a review of literature on neutron-induced cross sections to gain a deeper understanding of the current methodologies in nuclear data evaluation.\n",
    "- Started examining how machine learning could augment the process of nuclear data evaluation.\n",
    "- Retrieved neutron capture data for U-233 from the National Nuclear Data Center using their online interface. Successfully replicated the data retrieval process programmatically using Python.\n",
    "- Established a GitHub repository to facilitate version control and access to Jupyter Notebook files for supervisory review and collaboration\n",
    "- Utilized both the online interface and Python for data visualization of specified nuclear data.\n",
    "- Advanced the Python scripts by generalizing them into reusable methods to be available for future work.\n",
    "- Initiated the creation of a detailed project log document. This log is hosted on a publicly accessible GitHub repository, ensuring transparency, supervisory monitoring and availability for external stakeholders.\n",
    "- Began literature assessment of possible areas we could take the project beyond the initial paper replication."
   ]
  },
  {
   "cell_type": "markdown",
   "id": "42e73a27-977b-479c-9d20-ec405580e257",
   "metadata": {},
   "source": [
    "#### Weekly meeting\n",
    "This week marked the commencement of the project, beginning with an introductory meeting to outline the project's scope and establish a timetable for regular updates and discussions with the supervisor."
   ]
  },
  {
   "cell_type": "markdown",
   "id": "4d8c18a7-7e6b-4aa0-8999-905081ccd231",
   "metadata": {},
   "source": [
    "## Week 2 (3rd June – 9th June)"
   ]
  },
  {
   "cell_type": "markdown",
   "id": "db195c2e-a375-4f98-adca-d69bf395f20f",
   "metadata": {},
   "source": [
    "#### Set tasks:\n",
    "- Literature review answering the question 'What is nuclear data used for?'\n",
    "- Upgrade python code to pull data directly from EXFOR, rather than manual file download.\n",
    "- Implement NucML library and generate custom CS visualisations.\n",
    "- Detailed review of Vicente-Valdez paper, start to map the steps required for replication."
   ]
  },
  {
   "cell_type": "markdown",
   "id": "d200fbb6-954f-4cef-92f7-8ec81ff691ed",
   "metadata": {},
   "source": [
    "#### Completed tasks: \n",
    "- Modified python code to pull data from URL's rather than CSV's.\n",
    "- Setup and configured NucML python library\n",
    "- Successfully loaded EXFOR data and started to train decision tree model & generate benchmark files\n",
    "- Began review on 'What is Nuclear data used for'. Began to structure an outline of a literature review that will form part of my submission."
   ]
  },
  {
   "cell_type": "markdown",
   "id": "6b600b92-7af9-479c-82d5-4fe5559daa98",
   "metadata": {},
   "source": [
    "#### Weekly meeting:\n",
    "- Presented previous week's work and gained valuable feedback.\n",
    "- Agreed on future meeting dates: 4pm Friday 14th June, then 2pm on Fridays beyond that.\n",
    "- Discussed questions relating to the De Saint Jean paper, around nuclear data."
   ]
  },
  {
   "cell_type": "markdown",
   "id": "6a0f1c86-1d77-484b-a5df-3fc9ea7cd62b",
   "metadata": {},
   "source": [
    "#### To Do:\n",
    "- X4Pro discovery. How can it aid our analysis beyond what is offered by NucML?\n",
    "- Continue to work on NucML, working on bug fixes and code updates."
   ]
  },
  {
   "cell_type": "markdown",
   "id": "7ac78b7e-c958-4803-a99a-4302392ace54",
   "metadata": {},
   "source": [
    "## Week 3 (10th June – 16th June)"
   ]
  },
  {
   "cell_type": "markdown",
   "id": "19f865b6-3221-4a51-9b2e-951664912a23",
   "metadata": {},
   "source": [
    "#### Set tasks:\n",
    "- Continue digging into NucML functionality\n",
    "- Compare output and behavior to those offered by X4Pro"
   ]
  },
  {
   "cell_type": "markdown",
   "id": "7b14baed-8489-4805-9251-ffaab907f0d9",
   "metadata": {},
   "source": [
    "#### Completed tasks: \n",
    "- Configured NucML to train a decision tree model\n",
    "- Continued troubleshooting the NucML package to enable and extend functioanlity"
   ]
  },
  {
   "cell_type": "markdown",
   "id": "50063811-89c0-47b5-82cd-a65b57858813",
   "metadata": {},
   "source": [
    "#### Weekly Meeting:\n",
    "- Presented work to date, focussing on initial exploration of NucML libraries\n",
    "- Feeback on increasing understanding of data structures and behavior of NucML methods."
   ]
  },
  {
   "cell_type": "markdown",
   "id": "5def621e-b6a3-4164-a472-d3af82d9cd02",
   "metadata": {},
   "source": [
    "#### To Do:\n",
    "- Complete code for visualising CS data from NucML, compare output of same datasets using X4Pro to confirm correct behavior\n",
    "- Gain full underanding of what NucMl methods are doing, and why.\n",
    "- What raw data does the ML model require, and how is that achieved with the data structures NucML creates."
   ]
  },
  {
   "cell_type": "markdown",
   "id": "3540a9ee-c7de-4ce7-9b1e-1d5d41124a39",
   "metadata": {},
   "source": [
    "## Week 4 (17th June – 23rd June)"
   ]
  },
  {
   "cell_type": "markdown",
   "id": "0ede732c-9674-433d-9eba-c8ee3343f2ba",
   "metadata": {},
   "source": [
    "5 days personal holiday"
   ]
  },
  {
   "cell_type": "markdown",
   "id": "0ca2607f-e7dc-4e2d-ab38-1cd90b42ed53",
   "metadata": {},
   "source": [
    "#### Set tasks:\n",
    "- Continue digging into NucML functionality\n",
    "- Compare output and behavior to those offered by X4Pro\n",
    "- Complete code for visualising CS data from NucML, compare output of same datasets using X4Pro to confirm correct behavior\n",
    "- Gain full underanding of what NucML methods are doing, and why."
   ]
  },
  {
   "cell_type": "markdown",
   "id": "61512c38-8ca9-44b4-9ba3-351fd6b50e17",
   "metadata": {},
   "source": [
    "#### Completed tasks: \n",
    "- Configured NucML to train a decision tree model\n",
    "- Continued troubleshooting the NucML package to enable and extend functioanlity"
   ]
  },
  {
   "cell_type": "markdown",
   "id": "af98eeee-48cb-417c-9d9b-d92c11b8997b",
   "metadata": {},
   "source": [
    "#### Weekly Meeting:\n",
    "- Presented progress, focusing on inspecting data structures an building understanding.\n",
    "- Feeback on increasing understanding of data structures and behavior of NucML methods."
   ]
  },
  {
   "cell_type": "markdown",
   "id": "fbceabc6-6de5-43f0-b26b-46429e6d8952",
   "metadata": {},
   "source": [
    "## Week 5 (24th June – 30th June)"
   ]
  },
  {
   "cell_type": "markdown",
   "id": "9f32a4b5-5bbc-4e87-b574-12b0ee40c2bd",
   "metadata": {},
   "source": [
    "#### Set tasks:\n",
    "- Continue digging into NucML functionality\n",
    "- Compare output and behavior to those offered by X4Pro\n",
    "- Complete code for visualising CS data from NucML, compare output of same datasets using X4Pro to confirm correct behavior\n",
    "- Gain full underanding of what NucML methods are doing, and why."
   ]
  },
  {
   "cell_type": "markdown",
   "id": "54a7b56e-d6cb-454f-bbf5-ab092ad8683f",
   "metadata": {},
   "source": [
    "#### Completed tasks:\n",
    "- Generated first model output (DT) on sample hyperparameters\n",
    "- Developed code to correctly output ACE files for Serpent2 benchmarking"
   ]
  },
  {
   "cell_type": "markdown",
   "id": "b02fd1ec-effd-41f9-8c1c-ea5501facc75",
   "metadata": {},
   "source": [
    "#### Weekly Meeting:\n",
    "- Presented first DT model output\n",
    "- Feeback and discussions on loss functions, ML algorithms & plans to progress project"
   ]
  },
  {
   "cell_type": "markdown",
   "id": "5817398d-eebf-4226-8a36-5a1b8d9ed1e2",
   "metadata": {},
   "source": [
    "## Week 6 (1st July - 7th July)"
   ]
  },
  {
   "cell_type": "markdown",
   "id": "a74fe13d-b373-46b0-aa49-f9c05f3adaf6",
   "metadata": {},
   "source": [
    "#### Set tasks:\n",
    "- Code debugging, fix normalisation issues\n",
    "- implement hyperparameter grid search\n",
    "- Implement functionality for multiple data sets.\n",
    "- Learn why data set segregation choices were made in NucML package.\n",
    "- Investigate suspected issue with DT model output related to logarithms.\n",
    "- Formal writeup for ML algorithms (DT, KNN, BDT, XGB)\n",
    "- Implement BDT, XGB, KNN algorithms\n",
    "- Literature search on XAI in the nuclear industry"
   ]
  },
  {
   "cell_type": "markdown",
   "id": "e444d220-b87e-4b96-adc1-f21e444a5421",
   "metadata": {},
   "source": [
    "#### Completed tasks:\n",
    "- Corrected issue related to normalisation\n",
    "- Implemented hyperparameter grid search,\n",
    "- Extended grid search functionality with halving grid search and halving random grid search.\n",
    "- Generated full DT model output with optimised hyperparameters"
   ]
  },
  {
   "cell_type": "markdown",
   "id": "6f12ef35-af9b-4911-8b08-70cfa4b5f19a",
   "metadata": {},
   "source": [
    "#### Weekly Meeting:\n",
    "- Presented progress, focusing on inspecting data structures an building understanding.\n",
    "- Feeback on increasing understanding of data structures and behavior of NucML methods."
   ]
  },
  {
   "cell_type": "markdown",
   "id": "1ac9599e-ce65-4472-9076-5b68757e7b0e",
   "metadata": {},
   "source": [
    "## Week 7 (8th July - 14th July)"
   ]
  },
  {
   "cell_type": "markdown",
   "id": "1c5635cb-a2e6-44bb-bf4b-c8af2dbfa051",
   "metadata": {},
   "source": [
    "#### Set tasks:\n",
    "-"
   ]
  },
  {
   "cell_type": "markdown",
   "id": "a1090db1-efbc-4038-92ee-31e5e48c27fc",
   "metadata": {},
   "source": [
    "#### Completed tasks:\n",
    "-"
   ]
  },
  {
   "cell_type": "markdown",
   "id": "caefd829-02fd-41d6-a79d-e56cc985a56f",
   "metadata": {},
   "source": [
    "#### Weekly meeting:\n",
    "- No meeting this week."
   ]
  },
  {
   "cell_type": "markdown",
   "id": "af1a653a-32df-4ed9-a86d-818237574377",
   "metadata": {},
   "source": [
    "## Week 8 (15th July - 21st July)"
   ]
  },
  {
   "cell_type": "markdown",
   "id": "92aa4694-91ba-4e65-9f0b-2cba1da2c98c",
   "metadata": {},
   "source": [
    "#### Set tasks:\n",
    "-"
   ]
  },
  {
   "cell_type": "markdown",
   "id": "a222ad8e-25f5-4b03-8117-0991847cec96",
   "metadata": {},
   "source": [
    "#### Completed tasks:\n",
    "-"
   ]
  },
  {
   "cell_type": "markdown",
   "id": "8ab592ba-7d8f-4221-bba5-c62bd06aed27",
   "metadata": {},
   "source": [
    "#### Weekly meeting:\n",
    "-"
   ]
  },
  {
   "cell_type": "markdown",
   "id": "0fc35266-4cfd-4f95-b06e-62ddd801996f",
   "metadata": {},
   "source": [
    "## Week 9 (22nd July - 28th July)"
   ]
  },
  {
   "cell_type": "markdown",
   "id": "838951a2-f8cd-4999-8c99-09073820c8a7",
   "metadata": {},
   "source": [
    "#### Set tasks:\n",
    "-"
   ]
  },
  {
   "cell_type": "markdown",
   "id": "76d23560-0643-4042-bf64-3ccf317eeaca",
   "metadata": {},
   "source": [
    "#### Completed tasks:\n",
    "-"
   ]
  },
  {
   "cell_type": "markdown",
   "id": "24047aae-3e53-433f-9f44-a92d88a12706",
   "metadata": {},
   "source": [
    "#### Weekly meeting:\n",
    "-"
   ]
  },
  {
   "cell_type": "code",
   "execution_count": null,
   "id": "90b69e46-f6d1-4b26-9a34-066fc453de88",
   "metadata": {},
   "outputs": [],
   "source": []
  }
 ],
 "metadata": {
  "kernelspec": {
   "display_name": "Python 3 (ipykernel)",
   "language": "python",
   "name": "python3"
  },
  "language_info": {
   "codemirror_mode": {
    "name": "ipython",
    "version": 3
   },
   "file_extension": ".py",
   "mimetype": "text/x-python",
   "name": "python",
   "nbconvert_exporter": "python",
   "pygments_lexer": "ipython3",
   "version": "3.12.1"
  }
 },
 "nbformat": 4,
 "nbformat_minor": 5
}
