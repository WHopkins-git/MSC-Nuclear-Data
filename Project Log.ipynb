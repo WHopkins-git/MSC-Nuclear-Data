{
 "cells": [
  {
   "cell_type": "markdown",
   "id": "4b056c56-e21c-4710-8351-9c5198c9b2d1",
   "metadata": {},
   "source": [
    "## MSC Project: Integrating machine learning techniques into the evaluation of nuclear data."
   ]
  },
  {
   "cell_type": "markdown",
   "id": "f17e6423-ddda-4e89-a267-180eef113b07",
   "metadata": {},
   "source": [
    "### Project Log"
   ]
  },
  {
   "cell_type": "markdown",
   "id": "c2c0858b-7554-4bed-a94c-c8e4d28a455d",
   "metadata": {},
   "source": [
    "### Week 1 (27th May – 2nd June)"
   ]
  },
  {
   "cell_type": "markdown",
   "id": "42e73a27-977b-479c-9d20-ec405580e257",
   "metadata": {},
   "source": [
    "This week marked the commencement of the project, beginning with an introductory meeting to outline the project's scope and establish a timetable for regular updates and discussions with the supervisor."
   ]
  },
  {
   "cell_type": "markdown",
   "id": "24791ac4-1205-4352-bb71-56cb26573d0d",
   "metadata": {},
   "source": [
    "#### Set tasks: \n",
    "- Post key dates to MS Teams group\n",
    "- Setup public Github and integrate with Jupyter Notebook\n",
    "- Complete nuclear data visualisation and implementation in python"
   ]
  },
  {
   "cell_type": "markdown",
   "id": "efc171aa-b2a9-420e-a2b5-2cf6834e4fd9",
   "metadata": {},
   "source": [
    "#### Completed tasks: \n",
    "- Conducted a review of literature on neutron-induced cross sections to gain a deeper understanding of the current methodologies in nuclear data evaluation.\n",
    "- Started examining how machine learning could augment the process of nuclear data evaluation.\n",
    "- Retrieved neutron capture data for U-233 from the National Nuclear Data Center using their online interface. Successfully replicated the data retrieval process programmatically using Python.\n",
    "- Established a GitHub repository to facilitate version control and access to Jupyter Notebook files for supervisory review and collaboration\n",
    "- Utilized both the online interface and Python for data visualization of specified nuclear data.\n",
    "- Advanced the Python scripts by generalizing them into reusable methods to be available for future work.\n",
    "- Initiated the creation of a detailed project log document. This log is hosted on a publicly accessible GitHub repository, ensuring transparency, supervisory monitoring and availability for external stakeholders.\n",
    "- Began literature assessment of possible areas we could take the project beyond the initial paper replication."
   ]
  },
  {
   "cell_type": "code",
   "execution_count": null,
   "id": "befb07dc-b19d-4e1d-a48e-b95b67531529",
   "metadata": {},
   "outputs": [],
   "source": []
  }
 ],
 "metadata": {
  "kernelspec": {
   "display_name": "Python 3 (ipykernel)",
   "language": "python",
   "name": "python3"
  },
  "language_info": {
   "codemirror_mode": {
    "name": "ipython",
    "version": 3
   },
   "file_extension": ".py",
   "mimetype": "text/x-python",
   "name": "python",
   "nbconvert_exporter": "python",
   "pygments_lexer": "ipython3",
   "version": "3.12.1"
  }
 },
 "nbformat": 4,
 "nbformat_minor": 5
}
